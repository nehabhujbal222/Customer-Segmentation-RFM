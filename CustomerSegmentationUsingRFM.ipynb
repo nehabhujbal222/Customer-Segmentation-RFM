{
  "nbformat": 4,
  "nbformat_minor": 0,
  "metadata": {
    "colab": {
      "name": "CustomerSegmentationUsingRFM.ipynb",
      "provenance": [],
      "collapsed_sections": [
        "8fXVZleMI6p2",
        "eRbABWEC1sNi",
        "vw7hXTOKN1my",
        "UN_wSgZy1yhK",
        "5QR7G3NOjCxc",
        "NOyJoZDMjYzj",
        "V5Zubb_bvQmx",
        "Yt4rdjcEQbFI",
        "S3-UhFHbXDF5",
        "cahXvyjFn9_L",
        "LJ0l3osL5SJS",
        "E1KbfmUzcCmN",
        "t4vFeH3UTOqQ",
        "DGpAdtN7ReGf",
        "JbyYCYlVRp2T",
        "NUdScJUkTqzR",
        "Z5JPQ1vAEXmx",
        "SDzXUw-ectv9",
        "nkeJU9vodsi0",
        "D7DGjWzxz7SH",
        "CwpqWkZp_LB4",
        "ON4Dz3D1zrQW",
        "M6ZgLrpR86DM",
        "BKk3LbAX-ZRB",
        "CR8CRmv7-mLn",
        "6B5WvD_GaYmf",
        "DrhJgvBxDPZc"
      ],
      "authorship_tag": "ABX9TyOyYk1DinqNqlTk8ihX93gn",
      "include_colab_link": true
    },
    "kernelspec": {
      "name": "python3",
      "display_name": "Python 3"
    }
  },
  "cells": [
    {
      "cell_type": "markdown",
      "metadata": {
        "id": "view-in-github",
        "colab_type": "text"
      },
      "source": [
        "<a href=\"https://colab.research.google.com/github/nehabhujbal222/Customer-Segmentation-RFM/blob/main/CustomerSegmentationUsingRFM.ipynb\" target=\"_parent\"><img src=\"https://colab.research.google.com/assets/colab-badge.svg\" alt=\"Open In Colab\"/></a>"
      ]
    },
    {
      "cell_type": "markdown",
      "metadata": {
        "id": "biY7VG7YylML"
      },
      "source": [
        "![sprocket_central_logo.png](data:image/png;base64,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)\n",
        "\n"
      ]
    },
    {
      "cell_type": "markdown",
      "metadata": {
        "id": "8fXVZleMI6p2"
      },
      "source": [
        "# **Customer Segmentation using RFM Approach** \n",
        "### **- Neha Bhujbal** \n",
        "\n",
        "\n",
        "---\n",
        "\n",
        "**Dataset: Sprocket Central Pty Ltd Data Set**\n",
        "\n",
        "\n",
        "This project is a part of my KPMG Data Analytics Consulting Virtual Internship experience. The aim is to analyse the Sprocket Central dataset which contains data about the bicycle company and its sales and identify which New Customers and Existing Customers the company should target to improve it's sales and maximize profits.\n",
        "\n",
        "**Project Goal:**\n",
        "\n",
        "*   Capture key business metrics (KPIs) measuring customer behaviour related to Transactions and Products.\n",
        "*   Identify and segment Customers using Recency, Frequency, Monetary Value (RFM) approach\n",
        "\n",
        "\n",
        "The segmentation based on different business metrics will thus help the  marketing and sales, account management and product teams to support better their customers and improve the product offering, availability and recommendations."
      ]
    },
    {
      "cell_type": "code",
      "metadata": {
        "id": "PVkcxu-ZLLv_"
      },
      "source": [
        "project_name = \"Sprocket Central Data Analysis\""
      ],
      "execution_count": 1,
      "outputs": []
    },
    {
      "cell_type": "markdown",
      "metadata": {
        "id": "eRbABWEC1sNi"
      },
      "source": [
        "#**1. Importing Libraries**"
      ]
    },
    {
      "cell_type": "code",
      "metadata": {
        "colab": {
          "base_uri": "https://localhost:8080/"
        },
        "id": "xAU1IKMefn3a",
        "outputId": "e8c08c1a-f9a6-4f92-d625-8c213fd2238c"
      },
      "source": [
        "!pip install squarify"
      ],
      "execution_count": 2,
      "outputs": [
        {
          "output_type": "stream",
          "text": [
            "Requirement already satisfied: squarify in /usr/local/lib/python3.7/dist-packages (0.4.3)\n"
          ],
          "name": "stdout"
        }
      ]
    },
    {
      "cell_type": "code",
      "metadata": {
        "id": "W_V8U7mxN8bs"
      },
      "source": [
        "import numpy as np\n",
        "import pandas as pd\n",
        "\n",
        "import matplotlib.pyplot as plt\n",
        "import seaborn as sns\n",
        "\n",
        "from datetime import date \n",
        "\n",
        "from sklearn.cluster import KMeans\n",
        "from sklearn.preprocessing import MinMaxScaler\n",
        "from sklearn import metrics\n",
        "\n",
        "import squarify \n"
      ],
      "execution_count": 3,
      "outputs": []
    },
    {
      "cell_type": "markdown",
      "metadata": {
        "id": "vw7hXTOKN1my"
      },
      "source": [
        "# **2. Exploratory Analysis**"
      ]
    },
    {
      "cell_type": "markdown",
      "metadata": {
        "id": "UN_wSgZy1yhK"
      },
      "source": [
        "## **2.1 Loading the Data**"
      ]
    },
    {
      "cell_type": "code",
      "metadata": {
        "id": "QyD4cK2hOFzl"
      },
      "source": [
        "raw_df = pd.read_excel('KPMG.xlsx')"
      ],
      "execution_count": 4,
      "outputs": []
    },
    {
      "cell_type": "code",
      "metadata": {
        "id": "8gKBv98eOu-H"
      },
      "source": [
        "raw_Transactions = pd.read_excel('KPMG.xlsx', sheet_name='Transactions')\n",
        "raw_NewCust = pd.read_excel('KPMG.xlsx', sheet_name='NewCustomerList')\n",
        "raw_CustDemog = pd.read_excel('KPMG.xlsx', sheet_name='CustomerDemographic')\n",
        "raw_CustAddress = pd.read_excel('KPMG.xlsx', sheet_name='CustomerAddress')"
      ],
      "execution_count": 5,
      "outputs": []
    },
    {
      "cell_type": "markdown",
      "metadata": {
        "id": "9voz6XPAhnhi"
      },
      "source": [
        "## **2.2 Data Preprocessing and Feature engineering**"
      ]
    },
    {
      "cell_type": "markdown",
      "metadata": {
        "id": "5QR7G3NOjCxc"
      },
      "source": [
        "**2.2.1. NewCustomerList Data**"
      ]
    },
    {
      "cell_type": "code",
      "metadata": {
        "colab": {
          "base_uri": "https://localhost:8080/",
          "height": 194
        },
        "id": "RSK6em-Dz1qt",
        "outputId": "e48b0daa-7840-403a-e77f-e17565057766"
      },
      "source": [
        "raw_NewCust.head(2)"
      ],
      "execution_count": 6,
      "outputs": [
        {
          "output_type": "execute_result",
          "data": {
            "text/html": [
              "<div>\n",
              "<style scoped>\n",
              "    .dataframe tbody tr th:only-of-type {\n",
              "        vertical-align: middle;\n",
              "    }\n",
              "\n",
              "    .dataframe tbody tr th {\n",
              "        vertical-align: top;\n",
              "    }\n",
              "\n",
              "    .dataframe thead th {\n",
              "        text-align: right;\n",
              "    }\n",
              "</style>\n",
              "<table border=\"1\" class=\"dataframe\">\n",
              "  <thead>\n",
              "    <tr style=\"text-align: right;\">\n",
              "      <th></th>\n",
              "      <th>first_name</th>\n",
              "      <th>last_name</th>\n",
              "      <th>gender</th>\n",
              "      <th>past_3_years_bike_related_purchases</th>\n",
              "      <th>DOB</th>\n",
              "      <th>job_title</th>\n",
              "      <th>job_industry_category</th>\n",
              "      <th>wealth_segment</th>\n",
              "      <th>deceased_indicator</th>\n",
              "      <th>owns_car</th>\n",
              "      <th>tenure</th>\n",
              "      <th>address</th>\n",
              "      <th>postcode</th>\n",
              "      <th>state</th>\n",
              "      <th>country</th>\n",
              "      <th>property_valuation</th>\n",
              "      <th>Unnamed: 16</th>\n",
              "      <th>Unnamed: 17</th>\n",
              "      <th>Unnamed: 18</th>\n",
              "      <th>Unnamed: 19</th>\n",
              "      <th>Unnamed: 20</th>\n",
              "      <th>Rank</th>\n",
              "      <th>Value</th>\n",
              "    </tr>\n",
              "  </thead>\n",
              "  <tbody>\n",
              "    <tr>\n",
              "      <th>0</th>\n",
              "      <td>Chickie</td>\n",
              "      <td>Brister</td>\n",
              "      <td>Male</td>\n",
              "      <td>86</td>\n",
              "      <td>1957-07-12</td>\n",
              "      <td>General Manager</td>\n",
              "      <td>Manufacturing</td>\n",
              "      <td>Mass Customer</td>\n",
              "      <td>N</td>\n",
              "      <td>Yes</td>\n",
              "      <td>14</td>\n",
              "      <td>45 Shopko Center</td>\n",
              "      <td>4500</td>\n",
              "      <td>QLD</td>\n",
              "      <td>Australia</td>\n",
              "      <td>6</td>\n",
              "      <td>0.46</td>\n",
              "      <td>0.575</td>\n",
              "      <td>0.71875</td>\n",
              "      <td>0.610938</td>\n",
              "      <td>1</td>\n",
              "      <td>1</td>\n",
              "      <td>1.71875</td>\n",
              "    </tr>\n",
              "    <tr>\n",
              "      <th>1</th>\n",
              "      <td>Morly</td>\n",
              "      <td>Genery</td>\n",
              "      <td>Male</td>\n",
              "      <td>69</td>\n",
              "      <td>1970-03-22</td>\n",
              "      <td>Structural Engineer</td>\n",
              "      <td>Property</td>\n",
              "      <td>Mass Customer</td>\n",
              "      <td>N</td>\n",
              "      <td>No</td>\n",
              "      <td>16</td>\n",
              "      <td>14 Mccormick Park</td>\n",
              "      <td>2113</td>\n",
              "      <td>NSW</td>\n",
              "      <td>Australia</td>\n",
              "      <td>11</td>\n",
              "      <td>0.62</td>\n",
              "      <td>0.620</td>\n",
              "      <td>0.77500</td>\n",
              "      <td>0.658750</td>\n",
              "      <td>1</td>\n",
              "      <td>1</td>\n",
              "      <td>1.71875</td>\n",
              "    </tr>\n",
              "  </tbody>\n",
              "</table>\n",
              "</div>"
            ],
            "text/plain": [
              "  first_name last_name gender  ...  Unnamed: 20 Rank    Value\n",
              "0    Chickie   Brister   Male  ...            1    1  1.71875\n",
              "1      Morly    Genery   Male  ...            1    1  1.71875\n",
              "\n",
              "[2 rows x 23 columns]"
            ]
          },
          "metadata": {
            "tags": []
          },
          "execution_count": 6
        }
      ]
    },
    {
      "cell_type": "markdown",
      "metadata": {
        "id": "P5pD9DKbz8cP"
      },
      "source": [
        "The *NewCustomer* csv file provides details for New Customers. It sets the benchmark for determining the columns which might help in analysis and find the KPI. \n",
        "This will enable the analyst to find which Customers among the NewCustomer List should be given a higher priority in terms of business."
      ]
    },
    {
      "cell_type": "code",
      "metadata": {
        "colab": {
          "base_uri": "https://localhost:8080/"
        },
        "id": "FOvCByov29by",
        "outputId": "b3cda789-300c-437e-ded4-85bb232959ed"
      },
      "source": [
        "raw_NewCust.info()"
      ],
      "execution_count": 7,
      "outputs": [
        {
          "output_type": "stream",
          "text": [
            "<class 'pandas.core.frame.DataFrame'>\n",
            "RangeIndex: 1000 entries, 0 to 999\n",
            "Data columns (total 23 columns):\n",
            " #   Column                               Non-Null Count  Dtype         \n",
            "---  ------                               --------------  -----         \n",
            " 0   first_name                           1000 non-null   object        \n",
            " 1   last_name                            971 non-null    object        \n",
            " 2   gender                               1000 non-null   object        \n",
            " 3   past_3_years_bike_related_purchases  1000 non-null   int64         \n",
            " 4   DOB                                  983 non-null    datetime64[ns]\n",
            " 5   job_title                            894 non-null    object        \n",
            " 6   job_industry_category                835 non-null    object        \n",
            " 7   wealth_segment                       1000 non-null   object        \n",
            " 8   deceased_indicator                   1000 non-null   object        \n",
            " 9   owns_car                             1000 non-null   object        \n",
            " 10  tenure                               1000 non-null   int64         \n",
            " 11  address                              1000 non-null   object        \n",
            " 12  postcode                             1000 non-null   int64         \n",
            " 13  state                                1000 non-null   object        \n",
            " 14  country                              1000 non-null   object        \n",
            " 15  property_valuation                   1000 non-null   int64         \n",
            " 16  Unnamed: 16                          1000 non-null   float64       \n",
            " 17  Unnamed: 17                          1000 non-null   float64       \n",
            " 18  Unnamed: 18                          1000 non-null   float64       \n",
            " 19  Unnamed: 19                          1000 non-null   float64       \n",
            " 20  Unnamed: 20                          1000 non-null   int64         \n",
            " 21  Rank                                 1000 non-null   int64         \n",
            " 22  Value                                1000 non-null   float64       \n",
            "dtypes: datetime64[ns](1), float64(5), int64(6), object(11)\n",
            "memory usage: 179.8+ KB\n"
          ],
          "name": "stdout"
        }
      ]
    },
    {
      "cell_type": "markdown",
      "metadata": {
        "id": "_2LFBnCm3uK-"
      },
      "source": [
        "**Observations:**\n",
        "\n",
        "1. New Customers haven't been assigned a customer id, so their identification is done on the basis of their first_name and last_name.\n",
        "2. The data contains few missing values in the last_name, DOB, job_title, job_industry_category columns. \n",
        "3. The data contains 5 unnamed columns. It is difficult to understand what they represent. We will eliminate them to avoid ambiguity.\n",
        "\n",
        "Let's create a copy of the data first so that we can continue to modify further without affecting the original data. (This step will be performed for all the imported csv files)"
      ]
    },
    {
      "cell_type": "code",
      "metadata": {
        "id": "N9YBGo0r5LDj"
      },
      "source": [
        "NewCustomer = raw_NewCust.copy()"
      ],
      "execution_count": 8,
      "outputs": []
    },
    {
      "cell_type": "code",
      "metadata": {
        "id": "qWWQfD8k6ylh"
      },
      "source": [
        "selected_columns=['first_name', 'last_name', 'gender',\n",
        "       'past_3_years_bike_related_purchases', 'DOB', 'job_title',\n",
        "       'job_industry_category', 'wealth_segment', 'deceased_indicator',\n",
        "       'owns_car', 'tenure', 'address', 'postcode', 'state', 'country',\n",
        "       'property_valuation', 'Rank', 'Value']\n",
        "\n",
        "NewCustomer = NewCustomer[selected_columns]"
      ],
      "execution_count": 9,
      "outputs": []
    },
    {
      "cell_type": "code",
      "metadata": {
        "colab": {
          "base_uri": "https://localhost:8080/"
        },
        "id": "B_o2ZJCGRz7C",
        "outputId": "97230bda-2021-4bd1-e0d7-083a4c4a496c"
      },
      "source": [
        "# DOB of the eldest customer\n",
        "NewCustomer['DOB'].min()"
      ],
      "execution_count": 10,
      "outputs": [
        {
          "output_type": "execute_result",
          "data": {
            "text/plain": [
              "Timestamp('1938-06-08 00:00:00')"
            ]
          },
          "metadata": {
            "tags": []
          },
          "execution_count": 10
        }
      ]
    },
    {
      "cell_type": "markdown",
      "metadata": {
        "id": "3B66oaTM8YFa"
      },
      "source": [
        "Let's add a new column to store the Ages of New Customers."
      ]
    },
    {
      "cell_type": "code",
      "metadata": {
        "id": "mrAvmsgR7AYW"
      },
      "source": [
        "def calculate_age(dob): \n",
        "    today = date.today() \n",
        "    age = today.year - dob.year - ((today.month, today.day) < (dob.month, dob.day)) \n",
        "  \n",
        "    return age "
      ],
      "execution_count": 11,
      "outputs": []
    },
    {
      "cell_type": "code",
      "metadata": {
        "id": "ECyNH36E7NpA"
      },
      "source": [
        "NewCustomer['Age']= np.zeros(NewCustomer.shape[0])\n",
        "\n",
        "NewCustomer['Age'] = pd.to_datetime(NewCustomer.DOB).apply(lambda x: calculate_age(x))"
      ],
      "execution_count": 12,
      "outputs": []
    },
    {
      "cell_type": "code",
      "metadata": {
        "id": "kd5re8ia_Jiv"
      },
      "source": [
        "# Dividing Customer Age into different groups\n",
        "NewCustomer['AgeGroup']= np.zeros(NewCustomer.shape[0])\n",
        "\n",
        "pd.set_option('mode.chained_assignment', None)\n",
        "\n",
        "for i in range(NewCustomer.shape[0]):\n",
        "  if NewCustomer.Age[i] <= 10:\n",
        "    NewCustomer.AgeGroup[i] = '1-10'\n",
        "  elif NewCustomer.Age[i] <= 20:\n",
        "    NewCustomer.AgeGroup[i] = '11-20'\n",
        "  elif NewCustomer.Age[i] <= 30:\n",
        "    NewCustomer.AgeGroup[i] = '21-30'\n",
        "  elif NewCustomer.Age[i] <= 40:\n",
        "    NewCustomer.AgeGroup[i] = '31-40'\n",
        "  elif NewCustomer.Age[i] <= 50:\n",
        "    NewCustomer.AgeGroup[i] = '41-50'\n",
        "  elif NewCustomer.Age[i] <= 60:\n",
        "    NewCustomer.AgeGroup[i] = '51-60'\n",
        "  elif NewCustomer.Age[i] <= 70:\n",
        "    NewCustomer.AgeGroup[i] = '61-70'\n",
        "  elif NewCustomer.Age[i] <= 80:\n",
        "    NewCustomer.AgeGroup[i] = '71-80'\n",
        "  elif NewCustomer.Age[i] <= 90:\n",
        "    NewCustomer.AgeGroup[i] = '81-90'\n",
        "  else:\n",
        "    NewCustomer.AgeGroup[i] = 'NaN'"
      ],
      "execution_count": 13,
      "outputs": []
    },
    {
      "cell_type": "code",
      "metadata": {
        "colab": {
          "base_uri": "https://localhost:8080/"
        },
        "id": "dq_l8sRY7Gh7",
        "outputId": "137ee168-8645-4f9c-97e4-5b51cf83305e"
      },
      "source": [
        "NewCustomer.shape"
      ],
      "execution_count": 14,
      "outputs": [
        {
          "output_type": "execute_result",
          "data": {
            "text/plain": [
              "(1000, 20)"
            ]
          },
          "metadata": {
            "tags": []
          },
          "execution_count": 14
        }
      ]
    },
    {
      "cell_type": "markdown",
      "metadata": {
        "id": "DMRtJN0ohW-H"
      },
      "source": [
        "*Setting up priority for New Customers* can be decided based on the set of parameters listed in the *selected_columns*. Therefore, *further analysis will be streamlined accordingly.*"
      ]
    },
    {
      "cell_type": "markdown",
      "metadata": {
        "id": "NOyJoZDMjYzj"
      },
      "source": [
        "**2.2.2. Transactions Data**"
      ]
    },
    {
      "cell_type": "code",
      "metadata": {
        "colab": {
          "base_uri": "https://localhost:8080/",
          "height": 144
        },
        "id": "JpW1lF4nhOGW",
        "outputId": "013c78ae-4bcc-4b29-eb5b-19229c28d03d"
      },
      "source": [
        "raw_Transactions.head(2)"
      ],
      "execution_count": 15,
      "outputs": [
        {
          "output_type": "execute_result",
          "data": {
            "text/html": [
              "<div>\n",
              "<style scoped>\n",
              "    .dataframe tbody tr th:only-of-type {\n",
              "        vertical-align: middle;\n",
              "    }\n",
              "\n",
              "    .dataframe tbody tr th {\n",
              "        vertical-align: top;\n",
              "    }\n",
              "\n",
              "    .dataframe thead th {\n",
              "        text-align: right;\n",
              "    }\n",
              "</style>\n",
              "<table border=\"1\" class=\"dataframe\">\n",
              "  <thead>\n",
              "    <tr style=\"text-align: right;\">\n",
              "      <th></th>\n",
              "      <th>transaction_id</th>\n",
              "      <th>product_id</th>\n",
              "      <th>customer_id</th>\n",
              "      <th>transaction_date</th>\n",
              "      <th>online_order</th>\n",
              "      <th>order_status</th>\n",
              "      <th>brand</th>\n",
              "      <th>product_line</th>\n",
              "      <th>product_class</th>\n",
              "      <th>product_size</th>\n",
              "      <th>list_price</th>\n",
              "      <th>standard_cost</th>\n",
              "      <th>product_first_sold_date</th>\n",
              "    </tr>\n",
              "  </thead>\n",
              "  <tbody>\n",
              "    <tr>\n",
              "      <th>0</th>\n",
              "      <td>1</td>\n",
              "      <td>2</td>\n",
              "      <td>2950</td>\n",
              "      <td>2017-02-25</td>\n",
              "      <td>0.0</td>\n",
              "      <td>Approved</td>\n",
              "      <td>Solex</td>\n",
              "      <td>Standard</td>\n",
              "      <td>medium</td>\n",
              "      <td>medium</td>\n",
              "      <td>71.49</td>\n",
              "      <td>53.62</td>\n",
              "      <td>41245.0</td>\n",
              "    </tr>\n",
              "    <tr>\n",
              "      <th>1</th>\n",
              "      <td>2</td>\n",
              "      <td>3</td>\n",
              "      <td>3120</td>\n",
              "      <td>2017-05-21</td>\n",
              "      <td>1.0</td>\n",
              "      <td>Approved</td>\n",
              "      <td>Trek Bicycles</td>\n",
              "      <td>Standard</td>\n",
              "      <td>medium</td>\n",
              "      <td>large</td>\n",
              "      <td>2091.47</td>\n",
              "      <td>388.92</td>\n",
              "      <td>41701.0</td>\n",
              "    </tr>\n",
              "  </tbody>\n",
              "</table>\n",
              "</div>"
            ],
            "text/plain": [
              "   transaction_id  product_id  ...  standard_cost product_first_sold_date\n",
              "0               1           2  ...          53.62                 41245.0\n",
              "1               2           3  ...         388.92                 41701.0\n",
              "\n",
              "[2 rows x 13 columns]"
            ]
          },
          "metadata": {
            "tags": []
          },
          "execution_count": 15
        }
      ]
    },
    {
      "cell_type": "markdown",
      "metadata": {
        "id": "9n72VP57sR6F"
      },
      "source": [
        "The Transactions csv file provides insights about the bicycle transactions. It contains details about the product brand, class, size, cost, etc relating to the listed transactions."
      ]
    },
    {
      "cell_type": "code",
      "metadata": {
        "id": "7NysDp5PuYtp"
      },
      "source": [
        "Transactions = raw_Transactions.copy()"
      ],
      "execution_count": 16,
      "outputs": []
    },
    {
      "cell_type": "code",
      "metadata": {
        "colab": {
          "base_uri": "https://localhost:8080/"
        },
        "id": "kqnrmc4aupsX",
        "outputId": "f4ca38e6-3b12-40cc-d766-c5eba1febb14"
      },
      "source": [
        "Transactions.info()"
      ],
      "execution_count": 17,
      "outputs": [
        {
          "output_type": "stream",
          "text": [
            "<class 'pandas.core.frame.DataFrame'>\n",
            "RangeIndex: 20000 entries, 0 to 19999\n",
            "Data columns (total 13 columns):\n",
            " #   Column                   Non-Null Count  Dtype         \n",
            "---  ------                   --------------  -----         \n",
            " 0   transaction_id           20000 non-null  int64         \n",
            " 1   product_id               20000 non-null  int64         \n",
            " 2   customer_id              20000 non-null  int64         \n",
            " 3   transaction_date         20000 non-null  datetime64[ns]\n",
            " 4   online_order             19640 non-null  float64       \n",
            " 5   order_status             20000 non-null  object        \n",
            " 6   brand                    19803 non-null  object        \n",
            " 7   product_line             19803 non-null  object        \n",
            " 8   product_class            19803 non-null  object        \n",
            " 9   product_size             19803 non-null  object        \n",
            " 10  list_price               20000 non-null  float64       \n",
            " 11  standard_cost            19803 non-null  float64       \n",
            " 12  product_first_sold_date  19803 non-null  float64       \n",
            "dtypes: datetime64[ns](1), float64(4), int64(3), object(5)\n",
            "memory usage: 2.0+ MB\n"
          ],
          "name": "stdout"
        }
      ]
    },
    {
      "cell_type": "code",
      "metadata": {
        "colab": {
          "base_uri": "https://localhost:8080/",
          "height": 374
        },
        "id": "Vr_u4VXwuwSM",
        "outputId": "bcf12057-0dbb-4523-8ea6-0403c3b82db8"
      },
      "source": [
        "plt.show(sns.heatmap(Transactions.isnull()))"
      ],
      "execution_count": 18,
      "outputs": [
        {
          "output_type": "display_data",
          "data": {
            "image/png": "[encoded data removed]",
            "text/plain": [
              "<Figure size 432x288 with 2 Axes>"
            ]
          },
          "metadata": {
            "tags": [],
            "needs_background": "light"
          }
        }
      ]
    },
    {
      "cell_type": "code",
      "metadata": {
        "colab": {
          "base_uri": "https://localhost:8080/"
        },
        "id": "x3vYQEl3hbf_",
        "outputId": "d4e839c9-14c5-44bb-ac73-de84496a914b"
      },
      "source": [
        "Transactions['order_status'].value_counts()"
      ],
      "execution_count": 19,
      "outputs": [
        {
          "output_type": "execute_result",
          "data": {
            "text/plain": [
              "Approved     19821\n",
              "Cancelled      179\n",
              "Name: order_status, dtype: int64"
            ]
          },
          "metadata": {
            "tags": []
          },
          "execution_count": 19
        }
      ]
    },
    {
      "cell_type": "markdown",
      "metadata": {
        "id": "yxy-haKYx0MZ"
      },
      "source": [
        "**Observations:**\n",
        "\n",
        "1. The columns have datatype object, float or datetime.\n",
        "2. The data has missing values for product line, product class, brand, product size, standard costs\n",
        "and date of product first sold. It needs to be verified whether they are actual transactions or not. For now we will eliminate those rows as we cannot draw any valuable insight from them.\n",
        "3. The column regarding whether the order was placed online or not isn't available for NewCustomerList data. Thus, the presence of null values in this column shouldn't have any influence on our results.\n",
        "4. A transaction which is cancelled becomes invalid for the purpose of analysis. Thus, we will clean the data to contain only those transactions having order_status = 'Approved'\n",
        "5. A certain amount of ambiguity lies around the product_id column with different product brands having same id. We need to figure out what product_id represents and corrections be made accordingly."
      ]
    },
    {
      "cell_type": "code",
      "metadata": {
        "id": "COEF3Dyv--pf"
      },
      "source": [
        "Transactions = Transactions.dropna()\n",
        "#Transactions.replace(to_replace = {'online_order': {'FALSE': 0, 'TRUE': 1}}, inplace= True)"
      ],
      "execution_count": 20,
      "outputs": []
    },
    {
      "cell_type": "code",
      "metadata": {
        "id": "C5qS5n4JhvQ9",
        "colab": {
          "base_uri": "https://localhost:8080/"
        },
        "outputId": "35fa092a-4906-46d3-94a7-10f5473fde92"
      },
      "source": [
        "Transactions = Transactions.loc[Transactions['order_status'] == 'Approved']\n",
        "Transactions['order_status'].unique()"
      ],
      "execution_count": 21,
      "outputs": [
        {
          "output_type": "execute_result",
          "data": {
            "text/plain": [
              "array(['Approved'], dtype=object)"
            ]
          },
          "metadata": {
            "tags": []
          },
          "execution_count": 21
        }
      ]
    },
    {
      "cell_type": "markdown",
      "metadata": {
        "id": "Id4hdm62kt9L"
      },
      "source": [
        "We will now add a new column named Profit to the Transactions data in order to keep a track of the sales profit.\n",
        "> **Profit = list_price - standard_cost**\n",
        "\n",
        "\n",
        "\n"
      ]
    },
    {
      "cell_type": "code",
      "metadata": {
        "id": "3V8IixncsjAQ"
      },
      "source": [
        "profit = Transactions['list_price'] - Transactions['standard_cost']\n",
        "Transactions['Profit'] = profit"
      ],
      "execution_count": 22,
      "outputs": []
    },
    {
      "cell_type": "code",
      "metadata": {
        "id": "Er40gIiR8Psb"
      },
      "source": [
        "Transactions['product_first_sold_date'] = pd.to_datetime(Transactions['product_first_sold_date'])"
      ],
      "execution_count": 23,
      "outputs": []
    },
    {
      "cell_type": "code",
      "metadata": {
        "id": "ktyEEfM4svni",
        "colab": {
          "base_uri": "https://localhost:8080/"
        },
        "outputId": "cc7ec499-c114-4baf-f1ce-443f8f7200e7"
      },
      "source": [
        "Transactions.reset_index(drop = True, inplace = True)\n",
        "Transactions.shape"
      ],
      "execution_count": 24,
      "outputs": [
        {
          "output_type": "execute_result",
          "data": {
            "text/plain": [
              "(19273, 14)"
            ]
          },
          "metadata": {
            "tags": []
          },
          "execution_count": 24
        }
      ]
    },
    {
      "cell_type": "markdown",
      "metadata": {
        "id": "V5Zubb_bvQmx"
      },
      "source": [
        " **2.2.3. CustomerDemographic Data**"
      ]
    },
    {
      "cell_type": "code",
      "metadata": {
        "colab": {
          "base_uri": "https://localhost:8080/",
          "height": 593
        },
        "id": "2gkfVwZbv0PV",
        "outputId": "4fe00df4-f3e4-4019-ef0b-a1002abdc142"
      },
      "source": [
        "raw_CustDemog"
      ],
      "execution_count": 25,
      "outputs": [
        {
          "output_type": "execute_result",
          "data": {
            "text/html": [
              "<div>\n",
              "<style scoped>\n",
              "    .dataframe tbody tr th:only-of-type {\n",
              "        vertical-align: middle;\n",
              "    }\n",
              "\n",
              "    .dataframe tbody tr th {\n",
              "        vertical-align: top;\n",
              "    }\n",
              "\n",
              "    .dataframe thead th {\n",
              "        text-align: right;\n",
              "    }\n",
              "</style>\n",
              "<table border=\"1\" class=\"dataframe\">\n",
              "  <thead>\n",
              "    <tr style=\"text-align: right;\">\n",
              "      <th></th>\n",
              "      <th>customer_id</th>\n",
              "      <th>first_name</th>\n",
              "      <th>last_name</th>\n",
              "      <th>gender</th>\n",
              "      <th>past_3_years_bike_related_purchases</th>\n",
              "      <th>DOB</th>\n",
              "      <th>job_title</th>\n",
              "      <th>job_industry_category</th>\n",
              "      <th>wealth_segment</th>\n",
              "      <th>deceased_indicator</th>\n",
              "      <th>default</th>\n",
              "      <th>owns_car</th>\n",
              "      <th>tenure</th>\n",
              "    </tr>\n",
              "  </thead>\n",
              "  <tbody>\n",
              "    <tr>\n",
              "      <th>0</th>\n",
              "      <td>1</td>\n",
              "      <td>Laraine</td>\n",
              "      <td>Medendorp</td>\n",
              "      <td>F</td>\n",
              "      <td>93</td>\n",
              "      <td>1953-10-12</td>\n",
              "      <td>Executive Secretary</td>\n",
              "      <td>Health</td>\n",
              "      <td>Mass Customer</td>\n",
              "      <td>N</td>\n",
              "      <td>\"'</td>\n",
              "      <td>Yes</td>\n",
              "      <td>11.0</td>\n",
              "    </tr>\n",
              "    <tr>\n",
              "      <th>1</th>\n",
              "      <td>2</td>\n",
              "      <td>Eli</td>\n",
              "      <td>Bockman</td>\n",
              "      <td>Male</td>\n",
              "      <td>81</td>\n",
              "      <td>1980-12-16</td>\n",
              "      <td>Administrative Officer</td>\n",
              "      <td>Financial Services</td>\n",
              "      <td>Mass Customer</td>\n",
              "      <td>N</td>\n",
              "      <td>&lt;script&gt;alert('hi')&lt;/script&gt;</td>\n",
              "      <td>Yes</td>\n",
              "      <td>16.0</td>\n",
              "    </tr>\n",
              "    <tr>\n",
              "      <th>2</th>\n",
              "      <td>3</td>\n",
              "      <td>Arlin</td>\n",
              "      <td>Dearle</td>\n",
              "      <td>Male</td>\n",
              "      <td>61</td>\n",
              "      <td>1954-01-20</td>\n",
              "      <td>Recruiting Manager</td>\n",
              "      <td>Property</td>\n",
              "      <td>Mass Customer</td>\n",
              "      <td>N</td>\n",
              "      <td>2018-02-01 00:00:00</td>\n",
              "      <td>Yes</td>\n",
              "      <td>15.0</td>\n",
              "    </tr>\n",
              "    <tr>\n",
              "      <th>3</th>\n",
              "      <td>4</td>\n",
              "      <td>Talbot</td>\n",
              "      <td>NaN</td>\n",
              "      <td>Male</td>\n",
              "      <td>33</td>\n",
              "      <td>1961-10-03</td>\n",
              "      <td>NaN</td>\n",
              "      <td>IT</td>\n",
              "      <td>Mass Customer</td>\n",
              "      <td>N</td>\n",
              "      <td>() { _; } &gt;_[$($())] { touch /tmp/blns.shellsh...</td>\n",
              "      <td>No</td>\n",
              "      <td>7.0</td>\n",
              "    </tr>\n",
              "    <tr>\n",
              "      <th>4</th>\n",
              "      <td>5</td>\n",
              "      <td>Sheila-kathryn</td>\n",
              "      <td>Calton</td>\n",
              "      <td>Female</td>\n",
              "      <td>56</td>\n",
              "      <td>1977-05-13</td>\n",
              "      <td>Senior Editor</td>\n",
              "      <td>NaN</td>\n",
              "      <td>Affluent Customer</td>\n",
              "      <td>N</td>\n",
              "      <td>NIL</td>\n",
              "      <td>Yes</td>\n",
              "      <td>8.0</td>\n",
              "    </tr>\n",
              "    <tr>\n",
              "      <th>...</th>\n",
              "      <td>...</td>\n",
              "      <td>...</td>\n",
              "      <td>...</td>\n",
              "      <td>...</td>\n",
              "      <td>...</td>\n",
              "      <td>...</td>\n",
              "      <td>...</td>\n",
              "      <td>...</td>\n",
              "      <td>...</td>\n",
              "      <td>...</td>\n",
              "      <td>...</td>\n",
              "      <td>...</td>\n",
              "      <td>...</td>\n",
              "    </tr>\n",
              "    <tr>\n",
              "      <th>3995</th>\n",
              "      <td>3996</td>\n",
              "      <td>Rosalia</td>\n",
              "      <td>Halgarth</td>\n",
              "      <td>Female</td>\n",
              "      <td>8</td>\n",
              "      <td>1975-08-09</td>\n",
              "      <td>VP Product Management</td>\n",
              "      <td>Health</td>\n",
              "      <td>Mass Customer</td>\n",
              "      <td>N</td>\n",
              "      <td>-100</td>\n",
              "      <td>No</td>\n",
              "      <td>19.0</td>\n",
              "    </tr>\n",
              "    <tr>\n",
              "      <th>3996</th>\n",
              "      <td>3997</td>\n",
              "      <td>Blanch</td>\n",
              "      <td>Nisuis</td>\n",
              "      <td>Female</td>\n",
              "      <td>87</td>\n",
              "      <td>2001-07-13</td>\n",
              "      <td>Statistician II</td>\n",
              "      <td>Manufacturing</td>\n",
              "      <td>High Net Worth</td>\n",
              "      <td>N</td>\n",
              "      <td>â¦testâ§</td>\n",
              "      <td>Yes</td>\n",
              "      <td>1.0</td>\n",
              "    </tr>\n",
              "    <tr>\n",
              "      <th>3997</th>\n",
              "      <td>3998</td>\n",
              "      <td>Sarene</td>\n",
              "      <td>Woolley</td>\n",
              "      <td>U</td>\n",
              "      <td>60</td>\n",
              "      <td>NaT</td>\n",
              "      <td>Assistant Manager</td>\n",
              "      <td>IT</td>\n",
              "      <td>High Net Worth</td>\n",
              "      <td>N</td>\n",
              "      <td>NaN</td>\n",
              "      <td>No</td>\n",
              "      <td>NaN</td>\n",
              "    </tr>\n",
              "    <tr>\n",
              "      <th>3998</th>\n",
              "      <td>3999</td>\n",
              "      <td>Patrizius</td>\n",
              "      <td>NaN</td>\n",
              "      <td>Male</td>\n",
              "      <td>11</td>\n",
              "      <td>1973-10-24</td>\n",
              "      <td>NaN</td>\n",
              "      <td>Manufacturing</td>\n",
              "      <td>Affluent Customer</td>\n",
              "      <td>N</td>\n",
              "      <td>Â¡â¢Â£Â¢âÂ§Â¶â¢ÂªÂºââ</td>\n",
              "      <td>Yes</td>\n",
              "      <td>10.0</td>\n",
              "    </tr>\n",
              "    <tr>\n",
              "      <th>3999</th>\n",
              "      <td>4000</td>\n",
              "      <td>Kippy</td>\n",
              "      <td>Oldland</td>\n",
              "      <td>Male</td>\n",
              "      <td>76</td>\n",
              "      <td>1991-11-05</td>\n",
              "      <td>Software Engineer IV</td>\n",
              "      <td>NaN</td>\n",
              "      <td>Affluent Customer</td>\n",
              "      <td>N</td>\n",
              "      <td>0/0</td>\n",
              "      <td>No</td>\n",
              "      <td>11.0</td>\n",
              "    </tr>\n",
              "  </tbody>\n",
              "</table>\n",
              "<p>4000 rows × 13 columns</p>\n",
              "</div>"
            ],
            "text/plain": [
              "      customer_id      first_name  ... owns_car tenure\n",
              "0               1         Laraine  ...      Yes   11.0\n",
              "1               2             Eli  ...      Yes   16.0\n",
              "2               3           Arlin  ...      Yes   15.0\n",
              "3               4          Talbot  ...       No    7.0\n",
              "4               5  Sheila-kathryn  ...      Yes    8.0\n",
              "...           ...             ...  ...      ...    ...\n",
              "3995         3996         Rosalia  ...       No   19.0\n",
              "3996         3997          Blanch  ...      Yes    1.0\n",
              "3997         3998          Sarene  ...       No    NaN\n",
              "3998         3999       Patrizius  ...      Yes   10.0\n",
              "3999         4000           Kippy  ...       No   11.0\n",
              "\n",
              "[4000 rows x 13 columns]"
            ]
          },
          "metadata": {
            "tags": []
          },
          "execution_count": 25
        }
      ]
    },
    {
      "cell_type": "markdown",
      "metadata": {
        "id": "Yt4rdjcEQbFI"
      },
      "source": [
        "**2.2.4. CustomerAddress Data**"
      ]
    },
    {
      "cell_type": "code",
      "metadata": {
        "colab": {
          "base_uri": "https://localhost:8080/",
          "height": 406
        },
        "id": "24Os6zyeQkfe",
        "outputId": "79173f64-7dc0-454c-df0e-887da31052de"
      },
      "source": [
        "raw_CustAddress"
      ],
      "execution_count": 26,
      "outputs": [
        {
          "output_type": "execute_result",
          "data": {
            "text/html": [
              "<div>\n",
              "<style scoped>\n",
              "    .dataframe tbody tr th:only-of-type {\n",
              "        vertical-align: middle;\n",
              "    }\n",
              "\n",
              "    .dataframe tbody tr th {\n",
              "        vertical-align: top;\n",
              "    }\n",
              "\n",
              "    .dataframe thead th {\n",
              "        text-align: right;\n",
              "    }\n",
              "</style>\n",
              "<table border=\"1\" class=\"dataframe\">\n",
              "  <thead>\n",
              "    <tr style=\"text-align: right;\">\n",
              "      <th></th>\n",
              "      <th>customer_id</th>\n",
              "      <th>address</th>\n",
              "      <th>postcode</th>\n",
              "      <th>state</th>\n",
              "      <th>country</th>\n",
              "      <th>property_valuation</th>\n",
              "    </tr>\n",
              "  </thead>\n",
              "  <tbody>\n",
              "    <tr>\n",
              "      <th>0</th>\n",
              "      <td>1</td>\n",
              "      <td>060 Morning Avenue</td>\n",
              "      <td>2016</td>\n",
              "      <td>New South Wales</td>\n",
              "      <td>Australia</td>\n",
              "      <td>10</td>\n",
              "    </tr>\n",
              "    <tr>\n",
              "      <th>1</th>\n",
              "      <td>2</td>\n",
              "      <td>6 Meadow Vale Court</td>\n",
              "      <td>2153</td>\n",
              "      <td>New South Wales</td>\n",
              "      <td>Australia</td>\n",
              "      <td>10</td>\n",
              "    </tr>\n",
              "    <tr>\n",
              "      <th>2</th>\n",
              "      <td>4</td>\n",
              "      <td>0 Holy Cross Court</td>\n",
              "      <td>4211</td>\n",
              "      <td>QLD</td>\n",
              "      <td>Australia</td>\n",
              "      <td>9</td>\n",
              "    </tr>\n",
              "    <tr>\n",
              "      <th>3</th>\n",
              "      <td>5</td>\n",
              "      <td>17979 Del Mar Point</td>\n",
              "      <td>2448</td>\n",
              "      <td>New South Wales</td>\n",
              "      <td>Australia</td>\n",
              "      <td>4</td>\n",
              "    </tr>\n",
              "    <tr>\n",
              "      <th>4</th>\n",
              "      <td>6</td>\n",
              "      <td>9 Oakridge Court</td>\n",
              "      <td>3216</td>\n",
              "      <td>VIC</td>\n",
              "      <td>Australia</td>\n",
              "      <td>9</td>\n",
              "    </tr>\n",
              "    <tr>\n",
              "      <th>...</th>\n",
              "      <td>...</td>\n",
              "      <td>...</td>\n",
              "      <td>...</td>\n",
              "      <td>...</td>\n",
              "      <td>...</td>\n",
              "      <td>...</td>\n",
              "    </tr>\n",
              "    <tr>\n",
              "      <th>3994</th>\n",
              "      <td>3999</td>\n",
              "      <td>1482 Hauk Trail</td>\n",
              "      <td>3064</td>\n",
              "      <td>VIC</td>\n",
              "      <td>Australia</td>\n",
              "      <td>3</td>\n",
              "    </tr>\n",
              "    <tr>\n",
              "      <th>3995</th>\n",
              "      <td>4000</td>\n",
              "      <td>57042 Village Green Point</td>\n",
              "      <td>4511</td>\n",
              "      <td>QLD</td>\n",
              "      <td>Australia</td>\n",
              "      <td>6</td>\n",
              "    </tr>\n",
              "    <tr>\n",
              "      <th>3996</th>\n",
              "      <td>4001</td>\n",
              "      <td>87 Crescent Oaks Alley</td>\n",
              "      <td>2756</td>\n",
              "      <td>NSW</td>\n",
              "      <td>Australia</td>\n",
              "      <td>10</td>\n",
              "    </tr>\n",
              "    <tr>\n",
              "      <th>3997</th>\n",
              "      <td>4002</td>\n",
              "      <td>8194 Lien Street</td>\n",
              "      <td>4032</td>\n",
              "      <td>QLD</td>\n",
              "      <td>Australia</td>\n",
              "      <td>7</td>\n",
              "    </tr>\n",
              "    <tr>\n",
              "      <th>3998</th>\n",
              "      <td>4003</td>\n",
              "      <td>320 Acker Drive</td>\n",
              "      <td>2251</td>\n",
              "      <td>NSW</td>\n",
              "      <td>Australia</td>\n",
              "      <td>7</td>\n",
              "    </tr>\n",
              "  </tbody>\n",
              "</table>\n",
              "<p>3999 rows × 6 columns</p>\n",
              "</div>"
            ],
            "text/plain": [
              "      customer_id                    address  ...    country property_valuation\n",
              "0               1         060 Morning Avenue  ...  Australia                 10\n",
              "1               2        6 Meadow Vale Court  ...  Australia                 10\n",
              "2               4         0 Holy Cross Court  ...  Australia                  9\n",
              "3               5        17979 Del Mar Point  ...  Australia                  4\n",
              "4               6           9 Oakridge Court  ...  Australia                  9\n",
              "...           ...                        ...  ...        ...                ...\n",
              "3994         3999            1482 Hauk Trail  ...  Australia                  3\n",
              "3995         4000  57042 Village Green Point  ...  Australia                  6\n",
              "3996         4001     87 Crescent Oaks Alley  ...  Australia                 10\n",
              "3997         4002           8194 Lien Street  ...  Australia                  7\n",
              "3998         4003            320 Acker Drive  ...  Australia                  7\n",
              "\n",
              "[3999 rows x 6 columns]"
            ]
          },
          "metadata": {
            "tags": []
          },
          "execution_count": 26
        }
      ]
    },
    {
      "cell_type": "markdown",
      "metadata": {
        "id": "6yBi9FLcZ50y"
      },
      "source": [
        "Upon comparison of the **CustomerDemographic** and **CustomerAddress** data on the basis of **customer_id**, it can be observed that:\n",
        "\n",
        "CustomerDemographic has data missing for customer_id = 34\n",
        "\n",
        "CustomerAddress has data missing for customer_id = 3, 10, 22 23\n",
        "\n",
        "We will perform merge operation to get rid of the missing customer_id information."
      ]
    },
    {
      "cell_type": "markdown",
      "metadata": {
        "id": "S3-UhFHbXDF5"
      },
      "source": [
        "**2.2.5 Merging and cleaning CustomerDemographic and CustomerAddress Data** "
      ]
    },
    {
      "cell_type": "code",
      "metadata": {
        "id": "YrXoJxP4h25l"
      },
      "source": [
        "Customer = pd.merge(raw_CustDemog, raw_CustAddress, on='customer_id')"
      ],
      "execution_count": 27,
      "outputs": []
    },
    {
      "cell_type": "code",
      "metadata": {
        "colab": {
          "base_uri": "https://localhost:8080/"
        },
        "id": "VfNBLAPXYRyx",
        "outputId": "3ff2941f-6029-49d2-c524-270a3f219998"
      },
      "source": [
        "Customer.info()"
      ],
      "execution_count": 28,
      "outputs": [
        {
          "output_type": "stream",
          "text": [
            "<class 'pandas.core.frame.DataFrame'>\n",
            "Int64Index: 3996 entries, 0 to 3995\n",
            "Data columns (total 18 columns):\n",
            " #   Column                               Non-Null Count  Dtype         \n",
            "---  ------                               --------------  -----         \n",
            " 0   customer_id                          3996 non-null   int64         \n",
            " 1   first_name                           3996 non-null   object        \n",
            " 2   last_name                            3871 non-null   object        \n",
            " 3   gender                               3996 non-null   object        \n",
            " 4   past_3_years_bike_related_purchases  3996 non-null   int64         \n",
            " 5   DOB                                  3909 non-null   datetime64[ns]\n",
            " 6   job_title                            3492 non-null   object        \n",
            " 7   job_industry_category                3341 non-null   object        \n",
            " 8   wealth_segment                       3996 non-null   object        \n",
            " 9   deceased_indicator                   3996 non-null   object        \n",
            " 10  default                              3694 non-null   object        \n",
            " 11  owns_car                             3996 non-null   object        \n",
            " 12  tenure                               3909 non-null   float64       \n",
            " 13  address                              3996 non-null   object        \n",
            " 14  postcode                             3996 non-null   int64         \n",
            " 15  state                                3996 non-null   object        \n",
            " 16  country                              3996 non-null   object        \n",
            " 17  property_valuation                   3996 non-null   int64         \n",
            "dtypes: datetime64[ns](1), float64(1), int64(4), object(12)\n",
            "memory usage: 593.2+ KB\n"
          ],
          "name": "stdout"
        }
      ]
    },
    {
      "cell_type": "code",
      "metadata": {
        "colab": {
          "base_uri": "https://localhost:8080/",
          "height": 446
        },
        "id": "w0y3bUY_Y0eS",
        "outputId": "c7383c46-00e4-4261-daeb-d06733e01eb4"
      },
      "source": [
        "plt.show(sns.heatmap(Customer.isnull()))"
      ],
      "execution_count": 29,
      "outputs": [
        {
          "output_type": "display_data",
          "data": {
            "image/png": "[encoded data removed]",
            "text/plain": [
              "<Figure size 432x288 with 2 Axes>"
            ]
          },
          "metadata": {
            "tags": [],
            "needs_background": "light"
          }
        }
      ]
    },
    {
      "cell_type": "code",
      "metadata": {
        "colab": {
          "base_uri": "https://localhost:8080/"
        },
        "id": "m2VTOVtfQD6T",
        "outputId": "83fe65e1-2d1d-4276-9acc-f030da70a8df"
      },
      "source": [
        "Customer['gender'].value_counts()"
      ],
      "execution_count": 30,
      "outputs": [
        {
          "output_type": "execute_result",
          "data": {
            "text/plain": [
              "Female    2035\n",
              "Male      1870\n",
              "U           88\n",
              "Femal        1\n",
              "F            1\n",
              "M            1\n",
              "Name: gender, dtype: int64"
            ]
          },
          "metadata": {
            "tags": []
          },
          "execution_count": 30
        }
      ]
    },
    {
      "cell_type": "code",
      "metadata": {
        "colab": {
          "base_uri": "https://localhost:8080/"
        },
        "id": "N4FXeeXJGcjL",
        "outputId": "2c2edef5-3f86-46fd-e171-85432689395f"
      },
      "source": [
        "Customer['state'].value_counts()"
      ],
      "execution_count": 31,
      "outputs": [
        {
          "output_type": "execute_result",
          "data": {
            "text/plain": [
              "NSW                2052\n",
              "VIC                 939\n",
              "QLD                 837\n",
              "New South Wales      86\n",
              "Victoria             82\n",
              "Name: state, dtype: int64"
            ]
          },
          "metadata": {
            "tags": []
          },
          "execution_count": 31
        }
      ]
    },
    {
      "cell_type": "code",
      "metadata": {
        "colab": {
          "base_uri": "https://localhost:8080/",
          "height": 211
        },
        "id": "FHxE-dXXVBe1",
        "outputId": "af4c2885-110c-4336-ac3e-99e2a101b21f"
      },
      "source": [
        "Customer.sort_values('DOB').head(2)"
      ],
      "execution_count": 32,
      "outputs": [
        {
          "output_type": "execute_result",
          "data": {
            "text/html": [
              "<div>\n",
              "<style scoped>\n",
              "    .dataframe tbody tr th:only-of-type {\n",
              "        vertical-align: middle;\n",
              "    }\n",
              "\n",
              "    .dataframe tbody tr th {\n",
              "        vertical-align: top;\n",
              "    }\n",
              "\n",
              "    .dataframe thead th {\n",
              "        text-align: right;\n",
              "    }\n",
              "</style>\n",
              "<table border=\"1\" class=\"dataframe\">\n",
              "  <thead>\n",
              "    <tr style=\"text-align: right;\">\n",
              "      <th></th>\n",
              "      <th>customer_id</th>\n",
              "      <th>first_name</th>\n",
              "      <th>last_name</th>\n",
              "      <th>gender</th>\n",
              "      <th>past_3_years_bike_related_purchases</th>\n",
              "      <th>DOB</th>\n",
              "      <th>job_title</th>\n",
              "      <th>job_industry_category</th>\n",
              "      <th>wealth_segment</th>\n",
              "      <th>deceased_indicator</th>\n",
              "      <th>default</th>\n",
              "      <th>owns_car</th>\n",
              "      <th>tenure</th>\n",
              "      <th>address</th>\n",
              "      <th>postcode</th>\n",
              "      <th>state</th>\n",
              "      <th>country</th>\n",
              "      <th>property_valuation</th>\n",
              "    </tr>\n",
              "  </thead>\n",
              "  <tbody>\n",
              "    <tr>\n",
              "      <th>29</th>\n",
              "      <td>34</td>\n",
              "      <td>Jephthah</td>\n",
              "      <td>Bachmann</td>\n",
              "      <td>U</td>\n",
              "      <td>59</td>\n",
              "      <td>1843-12-21</td>\n",
              "      <td>Legal Assistant</td>\n",
              "      <td>IT</td>\n",
              "      <td>Affluent Customer</td>\n",
              "      <td>N</td>\n",
              "      <td>NaN</td>\n",
              "      <td>No</td>\n",
              "      <td>20.0</td>\n",
              "      <td>833 Luster Way</td>\n",
              "      <td>4005</td>\n",
              "      <td>QLD</td>\n",
              "      <td>Australia</td>\n",
              "      <td>8</td>\n",
              "    </tr>\n",
              "    <tr>\n",
              "      <th>715</th>\n",
              "      <td>720</td>\n",
              "      <td>Darrel</td>\n",
              "      <td>Canet</td>\n",
              "      <td>Male</td>\n",
              "      <td>67</td>\n",
              "      <td>1931-10-23</td>\n",
              "      <td>Recruiting Manager</td>\n",
              "      <td>Retail</td>\n",
              "      <td>Affluent Customer</td>\n",
              "      <td>N</td>\n",
              "      <td>1;DROP TABLE users</td>\n",
              "      <td>No</td>\n",
              "      <td>6.0</td>\n",
              "      <td>78 Glacier Hill Drive</td>\n",
              "      <td>2026</td>\n",
              "      <td>NSW</td>\n",
              "      <td>Australia</td>\n",
              "      <td>10</td>\n",
              "    </tr>\n",
              "  </tbody>\n",
              "</table>\n",
              "</div>"
            ],
            "text/plain": [
              "     customer_id first_name last_name  ... state    country property_valuation\n",
              "29            34   Jephthah  Bachmann  ...   QLD  Australia                  8\n",
              "715          720     Darrel     Canet  ...   NSW  Australia                 10\n",
              "\n",
              "[2 rows x 18 columns]"
            ]
          },
          "metadata": {
            "tags": []
          },
          "execution_count": 32
        }
      ]
    },
    {
      "cell_type": "markdown",
      "metadata": {
        "id": "fZYNyRtYYnCv"
      },
      "source": [
        "**Observations:**\n",
        "1. The **Customer data** contains a **lot of null values** as can be seen from the heatmap. \n",
        "2. Inconsistent values are present for **state** column such as 'New South Wales' and 'NSW' or 'Victoria' and 'VIC'\n",
        "3. There exists an ambiguious Date of birth '1843-12-21' ie. the Customer is 177 years old which is practically impossible for a human. We will eliminate that row entry. \n",
        "4. Moreover, the column named **default** does not provide any value to the data so we will eliminate it as well.\n",
        "\n",
        "**NOTE:** Unknown or blank values in the entire dataset can be an issue while looking up for customer information. To mitigate this issue it is recommended to record complete details of customers and transactions. For now we will eliminate incomplete records."
      ]
    },
    {
      "cell_type": "code",
      "metadata": {
        "id": "Esneq1Ta-LLd"
      },
      "source": [
        "Customer = Customer.drop(columns='default')"
      ],
      "execution_count": 33,
      "outputs": []
    },
    {
      "cell_type": "code",
      "metadata": {
        "id": "LeYW0ELf9Tuy"
      },
      "source": [
        "Customer = Customer.dropna()"
      ],
      "execution_count": 34,
      "outputs": []
    },
    {
      "cell_type": "code",
      "metadata": {
        "id": "0YQQISmaHXbj"
      },
      "source": [
        "Customer.replace(to_replace={'gender': {'F': 'Female', 'Femal': 'Female', 'M': 'Male'}, \n",
        "                             'state': {'New South Wales': 'NSW', 'Victoria': 'VIC'}},\n",
        "                 inplace=True)"
      ],
      "execution_count": 35,
      "outputs": []
    },
    {
      "cell_type": "code",
      "metadata": {
        "id": "8YBL2Ig37Kct"
      },
      "source": [
        "deceased = Customer[Customer['deceased_indicator']=='Y'].index\n",
        "Customer = Customer.drop(deceased)\n",
        "\n",
        "index = Customer[Customer['DOB'] == '1843-12-21'].index\n",
        "Customer = Customer.drop(index)\n",
        "\n",
        "Customer.reset_index(drop = True, inplace = True)"
      ],
      "execution_count": 36,
      "outputs": []
    },
    {
      "cell_type": "markdown",
      "metadata": {
        "id": "BT2suDqYuEkk"
      },
      "source": [
        "Calculating the Age of Customers:"
      ]
    },
    {
      "cell_type": "code",
      "metadata": {
        "id": "MF4BGPadaQKU"
      },
      "source": [
        "# Creating a new column to store the Age of Customers\n",
        "Customer['Age']= np.zeros(Customer.shape[0])\n",
        "\n",
        "# Assigning Age to each Customer using calculate_age function defined previously\n",
        "Customer['Age'] = pd.to_datetime(Customer.DOB).apply(lambda x: calculate_age(x))"
      ],
      "execution_count": 37,
      "outputs": []
    },
    {
      "cell_type": "code",
      "metadata": {
        "id": "9xWbX5wJiFUh"
      },
      "source": [
        "# Dividing Customer Age into different groups\n",
        "Customer['AgeGroup']= np.zeros(Customer.shape[0])\n",
        "\n",
        "pd.set_option('mode.chained_assignment', None)\n",
        "\n",
        "for i in range(Customer.shape[0]):\n",
        "  if Customer.Age[i] <= 10:\n",
        "    Customer.AgeGroup[i] = '1-10'\n",
        "  elif Customer.Age[i] <= 20:\n",
        "    Customer.AgeGroup[i] = '11-20'\n",
        "  elif Customer.Age[i] <= 30:\n",
        "    Customer.AgeGroup[i] = '21-30'\n",
        "  elif Customer.Age[i] <= 40:\n",
        "    Customer.AgeGroup[i] = '31-40'\n",
        "  elif Customer.Age[i] <= 50:\n",
        "    Customer.AgeGroup[i] = '41-50'\n",
        "  elif Customer.Age[i] <= 60:\n",
        "    Customer.AgeGroup[i] = '51-60'\n",
        "  elif Customer.Age[i] <= 70:\n",
        "    Customer.AgeGroup[i] = '61-70'\n",
        "  elif Customer.Age[i] <= 80:\n",
        "    Customer.AgeGroup[i] = '71-80'\n",
        "  elif Customer.Age[i] <= 90:\n",
        "    Customer.AgeGroup[i] = '81-90'\n",
        "  else:\n",
        "    Customer.AgeGroup[i] = 'NaN'"
      ],
      "execution_count": 38,
      "outputs": []
    },
    {
      "cell_type": "code",
      "metadata": {
        "colab": {
          "base_uri": "https://localhost:8080/",
          "height": 287
        },
        "id": "nTb6jhZdnM2k",
        "outputId": "c44eec95-fb0c-46a3-cc32-57d93d32d596"
      },
      "source": [
        "Customer.describe()"
      ],
      "execution_count": 39,
      "outputs": [
        {
          "output_type": "execute_result",
          "data": {
            "text/html": [
              "<div>\n",
              "<style scoped>\n",
              "    .dataframe tbody tr th:only-of-type {\n",
              "        vertical-align: middle;\n",
              "    }\n",
              "\n",
              "    .dataframe tbody tr th {\n",
              "        vertical-align: top;\n",
              "    }\n",
              "\n",
              "    .dataframe thead th {\n",
              "        text-align: right;\n",
              "    }\n",
              "</style>\n",
              "<table border=\"1\" class=\"dataframe\">\n",
              "  <thead>\n",
              "    <tr style=\"text-align: right;\">\n",
              "      <th></th>\n",
              "      <th>customer_id</th>\n",
              "      <th>past_3_years_bike_related_purchases</th>\n",
              "      <th>tenure</th>\n",
              "      <th>postcode</th>\n",
              "      <th>property_valuation</th>\n",
              "      <th>Age</th>\n",
              "    </tr>\n",
              "  </thead>\n",
              "  <tbody>\n",
              "    <tr>\n",
              "      <th>count</th>\n",
              "      <td>2775.000000</td>\n",
              "      <td>2775.000000</td>\n",
              "      <td>2775.000000</td>\n",
              "      <td>2775.000000</td>\n",
              "      <td>2775.000000</td>\n",
              "      <td>2775.000000</td>\n",
              "    </tr>\n",
              "    <tr>\n",
              "      <th>mean</th>\n",
              "      <td>1964.236036</td>\n",
              "      <td>49.415495</td>\n",
              "      <td>10.698018</td>\n",
              "      <td>2987.002523</td>\n",
              "      <td>7.469550</td>\n",
              "      <td>43.035315</td>\n",
              "    </tr>\n",
              "    <tr>\n",
              "      <th>std</th>\n",
              "      <td>1148.971991</td>\n",
              "      <td>28.772232</td>\n",
              "      <td>5.673047</td>\n",
              "      <td>848.325742</td>\n",
              "      <td>2.840457</td>\n",
              "      <td>12.512323</td>\n",
              "    </tr>\n",
              "    <tr>\n",
              "      <th>min</th>\n",
              "      <td>1.000000</td>\n",
              "      <td>0.000000</td>\n",
              "      <td>1.000000</td>\n",
              "      <td>2000.000000</td>\n",
              "      <td>1.000000</td>\n",
              "      <td>19.000000</td>\n",
              "    </tr>\n",
              "    <tr>\n",
              "      <th>25%</th>\n",
              "      <td>969.500000</td>\n",
              "      <td>25.000000</td>\n",
              "      <td>6.000000</td>\n",
              "      <td>2197.000000</td>\n",
              "      <td>6.000000</td>\n",
              "      <td>34.000000</td>\n",
              "    </tr>\n",
              "    <tr>\n",
              "      <th>50%</th>\n",
              "      <td>1954.000000</td>\n",
              "      <td>49.000000</td>\n",
              "      <td>11.000000</td>\n",
              "      <td>2768.000000</td>\n",
              "      <td>8.000000</td>\n",
              "      <td>43.000000</td>\n",
              "    </tr>\n",
              "    <tr>\n",
              "      <th>75%</th>\n",
              "      <td>2951.500000</td>\n",
              "      <td>74.000000</td>\n",
              "      <td>16.000000</td>\n",
              "      <td>3749.500000</td>\n",
              "      <td>10.000000</td>\n",
              "      <td>52.000000</td>\n",
              "    </tr>\n",
              "    <tr>\n",
              "      <th>max</th>\n",
              "      <td>3997.000000</td>\n",
              "      <td>99.000000</td>\n",
              "      <td>22.000000</td>\n",
              "      <td>4883.000000</td>\n",
              "      <td>12.000000</td>\n",
              "      <td>89.000000</td>\n",
              "    </tr>\n",
              "  </tbody>\n",
              "</table>\n",
              "</div>"
            ],
            "text/plain": [
              "       customer_id  ...          Age\n",
              "count  2775.000000  ...  2775.000000\n",
              "mean   1964.236036  ...    43.035315\n",
              "std    1148.971991  ...    12.512323\n",
              "min       1.000000  ...    19.000000\n",
              "25%     969.500000  ...    34.000000\n",
              "50%    1954.000000  ...    43.000000\n",
              "75%    2951.500000  ...    52.000000\n",
              "max    3997.000000  ...    89.000000\n",
              "\n",
              "[8 rows x 6 columns]"
            ]
          },
          "metadata": {
            "tags": []
          },
          "execution_count": 39
        }
      ]
    },
    {
      "cell_type": "markdown",
      "metadata": {
        "id": "99ictQB15fGj"
      },
      "source": [
        "A large proportion of customers have **Age** between 33 years and 53 years. The mean **property _valuation** and **tenure** is 7.51 and 10.65 respectively."
      ]
    },
    {
      "cell_type": "code",
      "metadata": {
        "colab": {
          "base_uri": "https://localhost:8080/",
          "height": 177
        },
        "id": "KtI_S6Ofngtk",
        "outputId": "15342096-f540-4663-dfb9-8e306d78bcb5"
      },
      "source": [
        "Customer.sample(2)"
      ],
      "execution_count": 40,
      "outputs": [
        {
          "output_type": "execute_result",
          "data": {
            "text/html": [
              "<div>\n",
              "<style scoped>\n",
              "    .dataframe tbody tr th:only-of-type {\n",
              "        vertical-align: middle;\n",
              "    }\n",
              "\n",
              "    .dataframe tbody tr th {\n",
              "        vertical-align: top;\n",
              "    }\n",
              "\n",
              "    .dataframe thead th {\n",
              "        text-align: right;\n",
              "    }\n",
              "</style>\n",
              "<table border=\"1\" class=\"dataframe\">\n",
              "  <thead>\n",
              "    <tr style=\"text-align: right;\">\n",
              "      <th></th>\n",
              "      <th>customer_id</th>\n",
              "      <th>first_name</th>\n",
              "      <th>last_name</th>\n",
              "      <th>gender</th>\n",
              "      <th>past_3_years_bike_related_purchases</th>\n",
              "      <th>DOB</th>\n",
              "      <th>job_title</th>\n",
              "      <th>job_industry_category</th>\n",
              "      <th>wealth_segment</th>\n",
              "      <th>deceased_indicator</th>\n",
              "      <th>owns_car</th>\n",
              "      <th>tenure</th>\n",
              "      <th>address</th>\n",
              "      <th>postcode</th>\n",
              "      <th>state</th>\n",
              "      <th>country</th>\n",
              "      <th>property_valuation</th>\n",
              "      <th>Age</th>\n",
              "      <th>AgeGroup</th>\n",
              "    </tr>\n",
              "  </thead>\n",
              "  <tbody>\n",
              "    <tr>\n",
              "      <th>1470</th>\n",
              "      <td>2077</td>\n",
              "      <td>Tobe</td>\n",
              "      <td>Lindroos</td>\n",
              "      <td>Female</td>\n",
              "      <td>67</td>\n",
              "      <td>1992-02-26</td>\n",
              "      <td>Cost Accountant</td>\n",
              "      <td>Financial Services</td>\n",
              "      <td>Mass Customer</td>\n",
              "      <td>N</td>\n",
              "      <td>Yes</td>\n",
              "      <td>7.0</td>\n",
              "      <td>27 Rockefeller Plaza</td>\n",
              "      <td>4556</td>\n",
              "      <td>QLD</td>\n",
              "      <td>Australia</td>\n",
              "      <td>8</td>\n",
              "      <td>29</td>\n",
              "      <td>21-30</td>\n",
              "    </tr>\n",
              "    <tr>\n",
              "      <th>1845</th>\n",
              "      <td>2604</td>\n",
              "      <td>Lewiss</td>\n",
              "      <td>Jaeggi</td>\n",
              "      <td>Male</td>\n",
              "      <td>91</td>\n",
              "      <td>1975-05-08</td>\n",
              "      <td>Account Executive</td>\n",
              "      <td>Retail</td>\n",
              "      <td>Mass Customer</td>\n",
              "      <td>N</td>\n",
              "      <td>Yes</td>\n",
              "      <td>7.0</td>\n",
              "      <td>6 Carioca Avenue</td>\n",
              "      <td>3185</td>\n",
              "      <td>VIC</td>\n",
              "      <td>Australia</td>\n",
              "      <td>9</td>\n",
              "      <td>45</td>\n",
              "      <td>41-50</td>\n",
              "    </tr>\n",
              "  </tbody>\n",
              "</table>\n",
              "</div>"
            ],
            "text/plain": [
              "      customer_id first_name last_name  ... property_valuation  Age AgeGroup\n",
              "1470         2077       Tobe  Lindroos  ...                  8   29    21-30\n",
              "1845         2604     Lewiss    Jaeggi  ...                  9   45    41-50\n",
              "\n",
              "[2 rows x 19 columns]"
            ]
          },
          "metadata": {
            "tags": []
          },
          "execution_count": 40
        }
      ]
    },
    {
      "cell_type": "markdown",
      "metadata": {
        "id": "cahXvyjFn9_L"
      },
      "source": [
        "## **2.3 Data Visualisation**"
      ]
    },
    {
      "cell_type": "code",
      "metadata": {
        "id": "sDXgXupsoOS-"
      },
      "source": [
        "#formatting\n",
        "%matplotlib inline\n",
        "\n",
        "sns.set_style('darkgrid')\n",
        "plt.rcParams['font.size'] = 10\n",
        "plt.rcParams['figure.figsize'] = (9, 5)\n",
        "plt.rcParams['figure.facecolor'] = '#fff'"
      ],
      "execution_count": 41,
      "outputs": []
    },
    {
      "cell_type": "markdown",
      "metadata": {
        "id": "e_qbgq0RKCS4"
      },
      "source": [
        "### **2.3.1 A Comparison between New Customer and Existing Customer Data**\n",
        "\n",
        "The following exploratory analysis will help us gain a deeper insight into the general trends and type of customers who are in business with the company."
      ]
    },
    {
      "cell_type": "markdown",
      "metadata": {
        "id": "LJ0l3osL5SJS"
      },
      "source": [
        "**Histogram plot for selected columns:**"
      ]
    },
    {
      "cell_type": "code",
      "metadata": {
        "colab": {
          "base_uri": "https://localhost:8080/",
          "height": 278
        },
        "id": "yU1KOUk903Ol",
        "outputId": "ac612195-0849-4c9b-c6fa-140ef1b15029"
      },
      "source": [
        "hist_columns = ['postcode', 'Age']\n",
        "\n",
        "hist_Customer = Customer[hist_columns]\n",
        "hist_Customer.hist(figsize=(10,3), bins=50, color='teal', xlabelsize=8, ylabelsize=8)"
      ],
      "execution_count": 42,
      "outputs": [
        {
          "output_type": "execute_result",
          "data": {
            "text/plain": [
              "array([[<matplotlib.axes._subplots.AxesSubplot object at 0x7f9ea3a8e8d0>,\n",
              "        <matplotlib.axes._subplots.AxesSubplot object at 0x7f9ea3ab8ed0>]],\n",
              "      dtype=object)"
            ]
          },
          "metadata": {
            "tags": []
          },
          "execution_count": 42
        },
        {
          "output_type": "display_data",
          "data": {
            "image/png": "[encoded data removed]",
            "text/plain": [
              "<Figure size 720x216 with 2 Axes>"
            ]
          },
          "metadata": {
            "tags": []
          }
        }
      ]
    },
    {
      "cell_type": "code",
      "metadata": {
        "colab": {
          "base_uri": "https://localhost:8080/",
          "height": 278
        },
        "id": "U30YcbYFVrd-",
        "outputId": "cf46c0ea-8cd2-4b68-c812-ed1ea140f57b"
      },
      "source": [
        "hist_NewCustomer = NewCustomer[hist_columns]\n",
        "\n",
        "hist_NewCustomer.hist(figsize=(10, 3), bins=50, color='teal', xlabelsize=8, ylabelsize=8)"
      ],
      "execution_count": 43,
      "outputs": [
        {
          "output_type": "execute_result",
          "data": {
            "text/plain": [
              "array([[<matplotlib.axes._subplots.AxesSubplot object at 0x7f9ea3bb1550>,\n",
              "        <matplotlib.axes._subplots.AxesSubplot object at 0x7f9ea4701d50>]],\n",
              "      dtype=object)"
            ]
          },
          "metadata": {
            "tags": []
          },
          "execution_count": 43
        },
        {
          "output_type": "display_data",
          "data": {
            "image/png": "[encoded data removed]",
            "text/plain": [
              "<Figure size 720x216 with 2 Axes>"
            ]
          },
          "metadata": {
            "tags": []
          }
        }
      ]
    },
    {
      "cell_type": "markdown",
      "metadata": {
        "id": "70mzP2Ka15ni"
      },
      "source": [
        "**Observations:**\n",
        "\n",
        "*   A significant amount of customer base is present in particular Areas and Age as can be inferred from the histogram. \n",
        "*   The distribution w.r.t. postcode follows similar trends for Existing and New Customers\n",
        "*   Whereas, certain variations w.r.t. distribution of Age is observed.\n",
        "\n",
        "These parameters will be examined in order to understand the customer trends."
      ]
    },
    {
      "cell_type": "markdown",
      "metadata": {
        "id": "E1KbfmUzcCmN"
      },
      "source": [
        "**Customers by Age Group and State:**\n"
      ]
    },
    {
      "cell_type": "code",
      "metadata": {
        "colab": {
          "base_uri": "https://localhost:8080/",
          "height": 621
        },
        "id": "jZqeXQE6550N",
        "outputId": "0435bc29-5152-4d12-d99c-ac2a0c6a31a7"
      },
      "source": [
        "fig, ax =plt.subplots(2,2, figsize=(15,10))\n",
        "\n",
        "sns.countplot(x='AgeGroup', data=Customer, order=Customer['AgeGroup'].value_counts().index, palette=\"viridis\" ,ax=ax[0][0])\n",
        "ax[0][0].set_title(\"Existing Customers by Age Group\")\n",
        "ax[0][0].set_xlabel(\"AgeGroup\")\n",
        "\n",
        "sns.countplot(x='AgeGroup', data=NewCustomer, order=NewCustomer['AgeGroup'].value_counts().index, palette=\"viridis\" ,ax=ax[0][1])\n",
        "ax[0][1].set_title(\"NewCustomers by Age Group\")\n",
        "ax[0][1].set_xlabel(\"AgeGroup\")\n",
        "\n",
        "sns.countplot(x='state',data=Customer, order= Customer['state'].value_counts().index, palette=\"viridis\", ax=ax[1][0])\n",
        "ax[1][0].set_title(\"Existing Customers by State\")\n",
        "ax[1][0].set_xlabel(\"State\")\n",
        "\n",
        "sns.countplot(x='state',data=NewCustomer, order= NewCustomer['state'].value_counts().index, palette=\"viridis\", ax=ax[1][1])\n",
        "ax[1][1].set_title(\"NewCustomers by State\")\n",
        "ax[1][1].set_xlabel(\"State\")\n",
        "\n",
        "plt.show()"
      ],
      "execution_count": 44,
      "outputs": [
        {
          "output_type": "display_data",
          "data": {
            "image/png": "[encoded data removed]",
            "text/plain": [
              "<Figure size 1080x720 with 4 Axes>"
            ]
          },
          "metadata": {
            "tags": []
          }
        }
      ]
    },
    {
      "cell_type": "markdown",
      "metadata": {
        "id": "t4vFeH3UTOqQ"
      },
      "source": [
        "**Gender w.r.t. Age Distribution:**"
      ]
    },
    {
      "cell_type": "code",
      "metadata": {
        "colab": {
          "base_uri": "https://localhost:8080/",
          "height": 352
        },
        "id": "R4jMKn0-3KUY",
        "outputId": "116f66f8-d3af-4fdf-87e6-7727e7f201cb"
      },
      "source": [
        "fig, ax =plt.subplots(1,2, figsize=(16,5))\n",
        "\n",
        "sns.countplot(y='AgeGroup',hue='gender',data=Customer, order= Customer['AgeGroup'].value_counts().index, palette='viridis', ax = ax[0])\n",
        "ax[0].set_ylabel(\"AgeGroup\")\n",
        "ax[0].set_xlabel(\"Number of Existing Customers\")\n",
        "ax[0].set_title(\"Gender w.r.t. Age Groups(Existing Cust)\", fontsize=15)\n",
        "\n",
        "sns.countplot(y='AgeGroup',hue='gender',data=NewCustomer, order= NewCustomer['AgeGroup'].value_counts().index, palette='viridis', ax= ax[1])\n",
        "ax[1].set_ylabel(\"AgeGroup\")\n",
        "ax[1].set_xlabel(\"Number of New Customers\")\n",
        "ax[1].set_title(\"Gender w.r.t. Age Groups(New Cust)\", fontsize=15)\n",
        "\n",
        "plt.show();"
      ],
      "execution_count": 45,
      "outputs": [
        {
          "output_type": "display_data",
          "data": {
            "image/png": "[encoded data removed]",
            "text/plain": [
              "<Figure size 1152x360 with 2 Axes>"
            ]
          },
          "metadata": {
            "tags": []
          }
        }
      ]
    },
    {
      "cell_type": "markdown",
      "metadata": {
        "id": "DGpAdtN7ReGf"
      },
      "source": [
        "**Distribution of Customers w.r.t. Wealth Segment:**"
      ]
    },
    {
      "cell_type": "code",
      "metadata": {
        "id": "Zm2L3B4x5lcP"
      },
      "source": [
        "wealth_seg = Customer.wealth_segment.value_counts()\n",
        "wealth_seg_new = NewCustomer.wealth_segment.value_counts()"
      ],
      "execution_count": 46,
      "outputs": []
    },
    {
      "cell_type": "code",
      "metadata": {
        "colab": {
          "base_uri": "https://localhost:8080/",
          "height": 264
        },
        "id": "0h86_doF5nPV",
        "outputId": "14d4bdbd-ae1d-4c9b-df15-07b6fafd56b5"
      },
      "source": [
        "fig, (ax1,ax2) = plt.subplots(1,2,figsize=(16,4))\n",
        "\n",
        "my_labels = 'Mass Customer','High Net Worth ','Affluent Customer'\n",
        "my_colors = ['lightgrey', 'cadetblue','teal']\n",
        "my_explode = (0,0,0)  #you can explode a slice if you want from the pie chart\n",
        "\n",
        "ax1.pie(wealth_seg, explode = my_explode, startangle = 90, labels=my_labels, colors=my_colors, shadow= True, autopct='%1.1f%%')\n",
        "plt.title('Wealth Segments for Existing Customer')\n",
        "ax1.axis('equal')\n",
        "\n",
        "ax2.pie(wealth_seg_new, explode = my_explode, startangle = 90, labels=my_labels, colors=my_colors, shadow= True, autopct='%1.1f%%')\n",
        "plt.title('Wealth Segments for New Customer')\n",
        "ax2.axis('equal')\n",
        "\n",
        "plt.show()"
      ],
      "execution_count": 47,
      "outputs": [
        {
          "output_type": "display_data",
          "data": {
            "image/png": "[encoded data removed]",
            "text/plain": [
              "<Figure size 1152x288 with 2 Axes>"
            ]
          },
          "metadata": {
            "tags": []
          }
        }
      ]
    },
    {
      "cell_type": "markdown",
      "metadata": {
        "id": "JbyYCYlVRp2T"
      },
      "source": [
        "**Distribution of Customers according to Job Industry Category:**"
      ]
    },
    {
      "cell_type": "code",
      "metadata": {
        "colab": {
          "base_uri": "https://localhost:8080/"
        },
        "id": "B7n0Ejgv5m8u",
        "outputId": "99acb8fd-9b80-45d6-9b4f-5888cdede384"
      },
      "source": [
        "job_category = Customer.job_industry_category.value_counts()\n",
        "job_category"
      ],
      "execution_count": 48,
      "outputs": [
        {
          "output_type": "execute_result",
          "data": {
            "text/plain": [
              "Manufacturing         670\n",
              "Financial Services    660\n",
              "Health                528\n",
              "Retail                296\n",
              "Property              228\n",
              "IT                    123\n",
              "Entertainment         116\n",
              "Argiculture            97\n",
              "Telecommunications     57\n",
              "Name: job_industry_category, dtype: int64"
            ]
          },
          "metadata": {
            "tags": []
          },
          "execution_count": 48
        }
      ]
    },
    {
      "cell_type": "markdown",
      "metadata": {
        "id": "KEuhj_1bPCNT"
      },
      "source": [
        "Plotting donut chart for distribution of New Customers w.r.t. wealth segment"
      ]
    },
    {
      "cell_type": "code",
      "metadata": {
        "colab": {
          "base_uri": "https://localhost:8080/",
          "height": 303
        },
        "id": "fo3Ltih-gmVF",
        "outputId": "1980df60-2b23-4a9e-d6ac-4fe3d09b3578"
      },
      "source": [
        "# The slices will be plotted counter-clockwise.\n",
        "data = NewCustomer.job_industry_category.value_counts()\n",
        "labels = 'Manufacturing', 'Financial Services', 'Health', 'Retail', 'Property', 'IT', 'Entertainment', 'Agriculture', 'Telecommunications'\n",
        "colors = ['darkslategrey', 'teal', 'lightseagreen', 'turquoise', 'aquamarine',\n",
        "             'lightgreen', 'limegreen', 'forestgreen',  'darkgreen' ]\n",
        "explode = (0, 0, 0, 0, 0, 0, 0, 0, 0)  #you can explode a slice if you want from the pie chart\n",
        "\n",
        "plt.pie(data, explode=explode, labels=labels, colors=colors, autopct='%1.1f%%', shadow=True)\n",
        "        \n",
        "# Draw a circle at the center of the chart to make a donut chart\n",
        "centre_circle = plt.Circle((0,0),0.75, color='black', fc='white', linewidth=0)\n",
        "fig = plt.gcf()\n",
        "fig.gca().add_artist(centre_circle)\n",
        "\n",
        "# Set aspect ratio to be equal so that pie is drawn as a circle.\n",
        "plt.axis('equal')\n",
        "plt.show()\n"
      ],
      "execution_count": 49,
      "outputs": [
        {
          "output_type": "display_data",
          "data": {
            "image/png": "[encoded data removed]",
            "text/plain": [
              "<Figure size 648x360 with 1 Axes>"
            ]
          },
          "metadata": {
            "tags": []
          }
        }
      ]
    },
    {
      "cell_type": "markdown",
      "metadata": {
        "id": "sYn0DR6FDIt3"
      },
      "source": [
        "**Inferences:**\n",
        "\n",
        "**AgeGroup**\n",
        "*   Existing Customers within the **Age Group** of **41-50** are **most likely** to buy.\n",
        "*   New Customers within the **Age Group** of **41-50** are **most likely** to buy followed by **51-60** and **61-70**.\n",
        "\n",
        "**State**\n",
        "*   **Maximum customer base** is in the state **NSW** followed by VIC and QLD for both existing and new customers.\n",
        "\n",
        "**Gender**\n",
        "*   The number of **female customers** is **slightly on a higher end** as compared to male customers for different Age Groups.\n",
        "\n",
        "**Wealth Segment**\n",
        "*  **Half of the customer base** belong to the **Mass Customer Segment** followed by High Net Worth and Affluent Customer for both existing and new customers.\n",
        "\n",
        "**Job Category**\n",
        "*  More than half of the Existing and New customer base belongs to either **Manufacturing, Financial Services or Health** Industry."
      ]
    },
    {
      "cell_type": "markdown",
      "metadata": {
        "id": "IX36ygEgKQlH"
      },
      "source": [
        "### **2.4 Transactions Data**"
      ]
    },
    {
      "cell_type": "markdown",
      "metadata": {
        "id": "NUdScJUkTqzR"
      },
      "source": [
        "**2.4.1 Pairplot for selected columns:**"
      ]
    },
    {
      "cell_type": "code",
      "metadata": {
        "colab": {
          "base_uri": "https://localhost:8080/",
          "height": 567
        },
        "id": "ce4-O-ZqxR9D",
        "outputId": "044cf0ce-ac80-4386-f04d-eb957d4d6e3a"
      },
      "source": [
        "sns.pairplot(Transactions, vars= ['list_price', 'standard_cost', 'Profit'])"
      ],
      "execution_count": 50,
      "outputs": [
        {
          "output_type": "execute_result",
          "data": {
            "text/plain": [
              "<seaborn.axisgrid.PairGrid at 0x7f9ea41c05d0>"
            ]
          },
          "metadata": {
            "tags": []
          },
          "execution_count": 50
        },
        {
          "output_type": "display_data",
          "data": {
            "image/png": "[encoded data removed]",
            "text/plain": [
              "<Figure size 540x540 with 12 Axes>"
            ]
          },
          "metadata": {
            "tags": []
          }
        }
      ]
    },
    {
      "cell_type": "markdown",
      "metadata": {
        "id": "YrQM0jMYH1pd"
      },
      "source": [
        "It can be quite easily inferenced from the above plot that Profit and list_price hold a direct relationship. It is quite obvious as profit increases if you set the selling price(list_price) higher compared to the cost price(standard_cost)"
      ]
    },
    {
      "cell_type": "markdown",
      "metadata": {
        "id": "Z5JPQ1vAEXmx"
      },
      "source": [
        "**2.4.2 Top selling brands:**"
      ]
    },
    {
      "cell_type": "code",
      "metadata": {
        "colab": {
          "base_uri": "https://localhost:8080/"
        },
        "id": "uowy9VojCqYw",
        "outputId": "96479838-6746-4ab9-99be-60ead7e6e777"
      },
      "source": [
        "Transactions['brand'].value_counts()"
      ],
      "execution_count": 51,
      "outputs": [
        {
          "output_type": "execute_result",
          "data": {
            "text/plain": [
              "Solex             4128\n",
              "Giant Bicycles    3217\n",
              "WeareA2B          3215\n",
              "OHM Cycles        2967\n",
              "Trek Bicycles     2906\n",
              "Norco Bicycles    2840\n",
              "Name: brand, dtype: int64"
            ]
          },
          "metadata": {
            "tags": []
          },
          "execution_count": 51
        }
      ]
    },
    {
      "cell_type": "markdown",
      "metadata": {
        "id": "SDzXUw-ectv9"
      },
      "source": [
        "**2.4.3 Demand of bikes w.r.t. product line:**"
      ]
    },
    {
      "cell_type": "code",
      "metadata": {
        "colab": {
          "base_uri": "https://localhost:8080/"
        },
        "id": "Qv_Jj3FfbRfd",
        "outputId": "5f8a81f7-de38-49cf-985d-bfaacc238532"
      },
      "source": [
        "count_productline = Transactions['product_line'].value_counts()\n",
        "count_productline"
      ],
      "execution_count": 52,
      "outputs": [
        {
          "output_type": "execute_result",
          "data": {
            "text/plain": [
              "Standard    13795\n",
              "Road         3859\n",
              "Touring      1204\n",
              "Mountain      415\n",
              "Name: product_line, dtype: int64"
            ]
          },
          "metadata": {
            "tags": []
          },
          "execution_count": 52
        }
      ]
    },
    {
      "cell_type": "code",
      "metadata": {
        "colab": {
          "base_uri": "https://localhost:8080/",
          "height": 337
        },
        "id": "eSLSYbwpb3-f",
        "outputId": "0afea1ea-5a70-4feb-aa38-6b6575cf16cd"
      },
      "source": [
        "plt.plot(count_productline, marker='h', markersize=10, linewidth=3, markerfacecolor='white')\n",
        "plt.title('Bicycle demand w.r.t. product line', fontsize= 15)\n",
        "plt.show()"
      ],
      "execution_count": 53,
      "outputs": [
        {
          "output_type": "display_data",
          "data": {
            "image/png": "[encoded data removed]",
            "text/plain": [
              "<Figure size 648x360 with 1 Axes>"
            ]
          },
          "metadata": {
            "tags": []
          }
        }
      ]
    },
    {
      "cell_type": "markdown",
      "metadata": {
        "id": "crUPNESgFZsb"
      },
      "source": [
        "**Inferences:**\n",
        "\n",
        "\n",
        "\n",
        "*   Profit and list_price hold a direct relationship. It is quite obvious as, profit increases if you set the selling price(list_price) higher compared to the cost price(standard_cost).\n",
        "*   The **Top 3 bicycle brands** are **Solex, Giant Bicycles** and **WeareA2B**. \n",
        "*  In terms of Product line, **Standard bikes** are the **highest in demand** followed by Road, Touring and Mountain bikes.\n"
      ]
    },
    {
      "cell_type": "markdown",
      "metadata": {
        "id": "oYEpxtCF5Wj5"
      },
      "source": [
        "# **3. Key Performance Indicators (KPIs)**\n",
        "\n",
        "\n",
        "---\n",
        "\n"
      ]
    },
    {
      "cell_type": "markdown",
      "metadata": {
        "id": "rXQliIqa55_j"
      },
      "source": [
        "A Key Performance Indicator is a measurable value that demonstrates how effectively a company is achieving its key business objectives. Organizations use KPIs to evaluate their success at reaching specific targets. \n",
        "\n",
        "In this section, the following categories of KPIs will be examined in detail.\n",
        "\n",
        "**Transactions KPI:**\n",
        "*   Monthly Revenue\n",
        "*   Growth Rate\n",
        "*   Profits incurred\n",
        "*   Monthly transactions count\n",
        "\n",
        "**Products KPI:**\n",
        "*   Monthly profit per brand\n",
        "\n"
      ]
    },
    {
      "cell_type": "code",
      "metadata": {
        "colab": {
          "base_uri": "https://localhost:8080/",
          "height": 161
        },
        "id": "uYA93KMh7tSG",
        "outputId": "ac7cd55c-2e75-4fc0-e6c4-0274c4a63b23"
      },
      "source": [
        "Transactions.head(2)"
      ],
      "execution_count": 54,
      "outputs": [
        {
          "output_type": "execute_result",
          "data": {
            "text/html": [
              "<div>\n",
              "<style scoped>\n",
              "    .dataframe tbody tr th:only-of-type {\n",
              "        vertical-align: middle;\n",
              "    }\n",
              "\n",
              "    .dataframe tbody tr th {\n",
              "        vertical-align: top;\n",
              "    }\n",
              "\n",
              "    .dataframe thead th {\n",
              "        text-align: right;\n",
              "    }\n",
              "</style>\n",
              "<table border=\"1\" class=\"dataframe\">\n",
              "  <thead>\n",
              "    <tr style=\"text-align: right;\">\n",
              "      <th></th>\n",
              "      <th>transaction_id</th>\n",
              "      <th>product_id</th>\n",
              "      <th>customer_id</th>\n",
              "      <th>transaction_date</th>\n",
              "      <th>online_order</th>\n",
              "      <th>order_status</th>\n",
              "      <th>brand</th>\n",
              "      <th>product_line</th>\n",
              "      <th>product_class</th>\n",
              "      <th>product_size</th>\n",
              "      <th>list_price</th>\n",
              "      <th>standard_cost</th>\n",
              "      <th>product_first_sold_date</th>\n",
              "      <th>Profit</th>\n",
              "    </tr>\n",
              "  </thead>\n",
              "  <tbody>\n",
              "    <tr>\n",
              "      <th>0</th>\n",
              "      <td>1</td>\n",
              "      <td>2</td>\n",
              "      <td>2950</td>\n",
              "      <td>2017-02-25</td>\n",
              "      <td>0.0</td>\n",
              "      <td>Approved</td>\n",
              "      <td>Solex</td>\n",
              "      <td>Standard</td>\n",
              "      <td>medium</td>\n",
              "      <td>medium</td>\n",
              "      <td>71.49</td>\n",
              "      <td>53.62</td>\n",
              "      <td>1970-01-01 00:00:00.000041245</td>\n",
              "      <td>17.87</td>\n",
              "    </tr>\n",
              "    <tr>\n",
              "      <th>1</th>\n",
              "      <td>2</td>\n",
              "      <td>3</td>\n",
              "      <td>3120</td>\n",
              "      <td>2017-05-21</td>\n",
              "      <td>1.0</td>\n",
              "      <td>Approved</td>\n",
              "      <td>Trek Bicycles</td>\n",
              "      <td>Standard</td>\n",
              "      <td>medium</td>\n",
              "      <td>large</td>\n",
              "      <td>2091.47</td>\n",
              "      <td>388.92</td>\n",
              "      <td>1970-01-01 00:00:00.000041701</td>\n",
              "      <td>1702.55</td>\n",
              "    </tr>\n",
              "  </tbody>\n",
              "</table>\n",
              "</div>"
            ],
            "text/plain": [
              "   transaction_id  product_id  ...       product_first_sold_date   Profit\n",
              "0               1           2  ... 1970-01-01 00:00:00.000041245    17.87\n",
              "1               2           3  ... 1970-01-01 00:00:00.000041701  1702.55\n",
              "\n",
              "[2 rows x 14 columns]"
            ]
          },
          "metadata": {
            "tags": []
          },
          "execution_count": 54
        }
      ]
    },
    {
      "cell_type": "markdown",
      "metadata": {
        "id": "IuIPyNo2_6Fd"
      },
      "source": [
        "The transaction details are available from 01/01/2017 to 30/12/2017"
      ]
    },
    {
      "cell_type": "code",
      "metadata": {
        "id": "5BlCOSuV8qKA"
      },
      "source": [
        "Transactions['Year'] = pd.DatetimeIndex(Transactions['transaction_date']).year\n",
        "Transactions['Month'] = pd.DatetimeIndex(Transactions['transaction_date']).month\n",
        "Transactions['Month-Year'] = pd.to_datetime(Transactions['transaction_date']).dt.to_period('M')"
      ],
      "execution_count": 55,
      "outputs": []
    },
    {
      "cell_type": "markdown",
      "metadata": {
        "id": "92b1hWLIAPGO"
      },
      "source": [
        "###**3.1 Transaction KPIs:**"
      ]
    },
    {
      "cell_type": "markdown",
      "metadata": {
        "id": "Z6wYiRbYiW4v"
      },
      "source": [
        "**Dataframe for monthly Transaction KPIs:**"
      ]
    },
    {
      "cell_type": "code",
      "metadata": {
        "colab": {
          "base_uri": "https://localhost:8080/",
          "height": 437
        },
        "id": "uTL6oM6B6Z95",
        "outputId": "9290f038-a5fb-4b86-b8b2-7976446aba4c"
      },
      "source": [
        "# 1. Monthly KPIs DataFrame by aggregating Revenue\n",
        "t_kpi = pd.DataFrame(Transactions.groupby(Transactions['Month-Year'])['list_price'].sum())\n",
        "t_kpi.rename(columns = {'list_price': 'MonthlyRevenue'}, inplace=True)\n",
        "\n",
        "# 2. Monthly Growth rate based on previous months Revenue\n",
        "t_kpi['MonthlyGrowth'] = t_kpi['MonthlyRevenue'].pct_change()\n",
        "\n",
        "# 3. Profits incurred per Month\n",
        "t_kpi['MonthlyProfit'] = pd.DataFrame(Transactions.groupby(Transactions['Month-Year'])['Profit'].sum()).round(decimals = 2)\n",
        "#t_kpi['MonthlyProfit'] = t_kpi['MonthlyProfit'].round(decimals = 2)\n",
        "\n",
        "# 4. Monthly Transactions count\n",
        "t_kpi['MonthlyTransactionsCount'] = pd.DataFrame(Transactions.groupby(Transactions['Month-Year'])['transaction_id'].count())\n",
        "\n",
        "#m_kpi.reset_index(level=0, inplace=True)\n",
        "t_kpi"
      ],
      "execution_count": 56,
      "outputs": [
        {
          "output_type": "execute_result",
          "data": {
            "text/html": [
              "<div>\n",
              "<style scoped>\n",
              "    .dataframe tbody tr th:only-of-type {\n",
              "        vertical-align: middle;\n",
              "    }\n",
              "\n",
              "    .dataframe tbody tr th {\n",
              "        vertical-align: top;\n",
              "    }\n",
              "\n",
              "    .dataframe thead th {\n",
              "        text-align: right;\n",
              "    }\n",
              "</style>\n",
              "<table border=\"1\" class=\"dataframe\">\n",
              "  <thead>\n",
              "    <tr style=\"text-align: right;\">\n",
              "      <th></th>\n",
              "      <th>MonthlyRevenue</th>\n",
              "      <th>MonthlyGrowth</th>\n",
              "      <th>MonthlyProfit</th>\n",
              "      <th>MonthlyTransactionsCount</th>\n",
              "    </tr>\n",
              "    <tr>\n",
              "      <th>Month-Year</th>\n",
              "      <th></th>\n",
              "      <th></th>\n",
              "      <th></th>\n",
              "      <th></th>\n",
              "    </tr>\n",
              "  </thead>\n",
              "  <tbody>\n",
              "    <tr>\n",
              "      <th>2017-01</th>\n",
              "      <td>1796720.93</td>\n",
              "      <td>NaN</td>\n",
              "      <td>904893.87</td>\n",
              "      <td>1621</td>\n",
              "    </tr>\n",
              "    <tr>\n",
              "      <th>2017-02</th>\n",
              "      <td>1739750.40</td>\n",
              "      <td>-0.031708</td>\n",
              "      <td>851637.74</td>\n",
              "      <td>1573</td>\n",
              "    </tr>\n",
              "    <tr>\n",
              "      <th>2017-03</th>\n",
              "      <td>1739423.16</td>\n",
              "      <td>-0.000188</td>\n",
              "      <td>860463.96</td>\n",
              "      <td>1585</td>\n",
              "    </tr>\n",
              "    <tr>\n",
              "      <th>2017-04</th>\n",
              "      <td>1770014.90</td>\n",
              "      <td>0.017587</td>\n",
              "      <td>879340.04</td>\n",
              "      <td>1596</td>\n",
              "    </tr>\n",
              "    <tr>\n",
              "      <th>2017-05</th>\n",
              "      <td>1847713.53</td>\n",
              "      <td>0.043897</td>\n",
              "      <td>895150.25</td>\n",
              "      <td>1624</td>\n",
              "    </tr>\n",
              "    <tr>\n",
              "      <th>2017-06</th>\n",
              "      <td>1690718.45</td>\n",
              "      <td>-0.084967</td>\n",
              "      <td>831655.67</td>\n",
              "      <td>1518</td>\n",
              "    </tr>\n",
              "    <tr>\n",
              "      <th>2017-07</th>\n",
              "      <td>1824201.43</td>\n",
              "      <td>0.078950</td>\n",
              "      <td>913216.65</td>\n",
              "      <td>1656</td>\n",
              "    </tr>\n",
              "    <tr>\n",
              "      <th>2017-08</th>\n",
              "      <td>1866475.46</td>\n",
              "      <td>0.023174</td>\n",
              "      <td>944061.90</td>\n",
              "      <td>1687</td>\n",
              "    </tr>\n",
              "    <tr>\n",
              "      <th>2017-09</th>\n",
              "      <td>1682750.63</td>\n",
              "      <td>-0.098434</td>\n",
              "      <td>835514.83</td>\n",
              "      <td>1520</td>\n",
              "    </tr>\n",
              "    <tr>\n",
              "      <th>2017-10</th>\n",
              "      <td>1894357.16</td>\n",
              "      <td>0.125750</td>\n",
              "      <td>959983.13</td>\n",
              "      <td>1710</td>\n",
              "    </tr>\n",
              "    <tr>\n",
              "      <th>2017-11</th>\n",
              "      <td>1736343.19</td>\n",
              "      <td>-0.083413</td>\n",
              "      <td>890574.74</td>\n",
              "      <td>1592</td>\n",
              "    </tr>\n",
              "    <tr>\n",
              "      <th>2017-12</th>\n",
              "      <td>1747940.40</td>\n",
              "      <td>0.006679</td>\n",
              "      <td>866156.08</td>\n",
              "      <td>1591</td>\n",
              "    </tr>\n",
              "  </tbody>\n",
              "</table>\n",
              "</div>"
            ],
            "text/plain": [
              "            MonthlyRevenue  ...  MonthlyTransactionsCount\n",
              "Month-Year                  ...                          \n",
              "2017-01         1796720.93  ...                      1621\n",
              "2017-02         1739750.40  ...                      1573\n",
              "2017-03         1739423.16  ...                      1585\n",
              "2017-04         1770014.90  ...                      1596\n",
              "2017-05         1847713.53  ...                      1624\n",
              "2017-06         1690718.45  ...                      1518\n",
              "2017-07         1824201.43  ...                      1656\n",
              "2017-08         1866475.46  ...                      1687\n",
              "2017-09         1682750.63  ...                      1520\n",
              "2017-10         1894357.16  ...                      1710\n",
              "2017-11         1736343.19  ...                      1592\n",
              "2017-12         1747940.40  ...                      1591\n",
              "\n",
              "[12 rows x 4 columns]"
            ]
          },
          "metadata": {
            "tags": []
          },
          "execution_count": 56
        }
      ]
    },
    {
      "cell_type": "markdown",
      "metadata": {
        "id": "51eaPmoPimDz"
      },
      "source": [
        "**Plotting the KPIs:**"
      ]
    },
    {
      "cell_type": "code",
      "metadata": {
        "colab": {
          "base_uri": "https://localhost:8080/",
          "height": 361
        },
        "id": "_4dywLw6G6cb",
        "outputId": "6f5814d0-55de-4cb6-e047-318c06dc7226"
      },
      "source": [
        "# Line Graph to capture the monthly revenue\n",
        "t_kpi.plot.line(y='MonthlyRevenue', title='Revenue per Month',color = 'b', \n",
        "                marker='h', markersize=8, linewidth=2, markerfacecolor='white');"
      ],
      "execution_count": 57,
      "outputs": [
        {
          "output_type": "display_data",
          "data": {
            "image/png": "[encoded data removed]",
            "text/plain": [
              "<Figure size 648x360 with 1 Axes>"
            ]
          },
          "metadata": {
            "tags": []
          }
        }
      ]
    },
    {
      "cell_type": "code",
      "metadata": {
        "colab": {
          "base_uri": "https://localhost:8080/",
          "height": 335
        },
        "id": "N1yoADfgKQib",
        "outputId": "46c7ea43-8b7e-419b-ca33-46e20765ac5e"
      },
      "source": [
        "t_kpi.plot.barh(y='MonthlyGrowth',title='Monthly Growth', color= 'g');"
      ],
      "execution_count": 58,
      "outputs": [
        {
          "output_type": "display_data",
          "data": {
            "image/png": "[encoded data removed]",
            "text/plain": [
              "<Figure size 648x360 with 1 Axes>"
            ]
          },
          "metadata": {
            "tags": []
          }
        }
      ]
    },
    {
      "cell_type": "code",
      "metadata": {
        "colab": {
          "base_uri": "https://localhost:8080/",
          "height": 361
        },
        "id": "i0b98BrFUFZF",
        "outputId": "cbb323ae-0eb7-4371-bbdb-984ec8efc106"
      },
      "source": [
        "# Line Graph to capture the monthly revenue\n",
        "t_kpi.plot.line(y='MonthlyTransactionsCount', title='Transactions per Month',color = 'b', \n",
        "                marker='h', markersize=8, linewidth=2, markerfacecolor='white');"
      ],
      "execution_count": 59,
      "outputs": [
        {
          "output_type": "display_data",
          "data": {
            "image/png": "[encoded data removed]",
            "text/plain": [
              "<Figure size 648x360 with 1 Axes>"
            ]
          },
          "metadata": {
            "tags": []
          }
        }
      ]
    },
    {
      "cell_type": "markdown",
      "metadata": {
        "id": "WX87kPndkHnB"
      },
      "source": [
        "### **3.2 Product KPIs:**"
      ]
    },
    {
      "cell_type": "code",
      "metadata": {
        "colab": {
          "base_uri": "https://localhost:8080/",
          "height": 177
        },
        "id": "LwoOD2J7kQs8",
        "outputId": "274746cb-f757-4f29-aad7-6bcdc93269af"
      },
      "source": [
        "Transactions.head(2)"
      ],
      "execution_count": 60,
      "outputs": [
        {
          "output_type": "execute_result",
          "data": {
            "text/html": [
              "<div>\n",
              "<style scoped>\n",
              "    .dataframe tbody tr th:only-of-type {\n",
              "        vertical-align: middle;\n",
              "    }\n",
              "\n",
              "    .dataframe tbody tr th {\n",
              "        vertical-align: top;\n",
              "    }\n",
              "\n",
              "    .dataframe thead th {\n",
              "        text-align: right;\n",
              "    }\n",
              "</style>\n",
              "<table border=\"1\" class=\"dataframe\">\n",
              "  <thead>\n",
              "    <tr style=\"text-align: right;\">\n",
              "      <th></th>\n",
              "      <th>transaction_id</th>\n",
              "      <th>product_id</th>\n",
              "      <th>customer_id</th>\n",
              "      <th>transaction_date</th>\n",
              "      <th>online_order</th>\n",
              "      <th>order_status</th>\n",
              "      <th>brand</th>\n",
              "      <th>product_line</th>\n",
              "      <th>product_class</th>\n",
              "      <th>product_size</th>\n",
              "      <th>list_price</th>\n",
              "      <th>standard_cost</th>\n",
              "      <th>product_first_sold_date</th>\n",
              "      <th>Profit</th>\n",
              "      <th>Year</th>\n",
              "      <th>Month</th>\n",
              "      <th>Month-Year</th>\n",
              "    </tr>\n",
              "  </thead>\n",
              "  <tbody>\n",
              "    <tr>\n",
              "      <th>0</th>\n",
              "      <td>1</td>\n",
              "      <td>2</td>\n",
              "      <td>2950</td>\n",
              "      <td>2017-02-25</td>\n",
              "      <td>0.0</td>\n",
              "      <td>Approved</td>\n",
              "      <td>Solex</td>\n",
              "      <td>Standard</td>\n",
              "      <td>medium</td>\n",
              "      <td>medium</td>\n",
              "      <td>71.49</td>\n",
              "      <td>53.62</td>\n",
              "      <td>1970-01-01 00:00:00.000041245</td>\n",
              "      <td>17.87</td>\n",
              "      <td>2017</td>\n",
              "      <td>2</td>\n",
              "      <td>2017-02</td>\n",
              "    </tr>\n",
              "    <tr>\n",
              "      <th>1</th>\n",
              "      <td>2</td>\n",
              "      <td>3</td>\n",
              "      <td>3120</td>\n",
              "      <td>2017-05-21</td>\n",
              "      <td>1.0</td>\n",
              "      <td>Approved</td>\n",
              "      <td>Trek Bicycles</td>\n",
              "      <td>Standard</td>\n",
              "      <td>medium</td>\n",
              "      <td>large</td>\n",
              "      <td>2091.47</td>\n",
              "      <td>388.92</td>\n",
              "      <td>1970-01-01 00:00:00.000041701</td>\n",
              "      <td>1702.55</td>\n",
              "      <td>2017</td>\n",
              "      <td>5</td>\n",
              "      <td>2017-05</td>\n",
              "    </tr>\n",
              "  </tbody>\n",
              "</table>\n",
              "</div>"
            ],
            "text/plain": [
              "   transaction_id  product_id  customer_id  ...  Year  Month Month-Year\n",
              "0               1           2         2950  ...  2017      2    2017-02\n",
              "1               2           3         3120  ...  2017      5    2017-05\n",
              "\n",
              "[2 rows x 17 columns]"
            ]
          },
          "metadata": {
            "tags": []
          },
          "execution_count": 60
        }
      ]
    },
    {
      "cell_type": "markdown",
      "metadata": {
        "id": "PZjpDyD46dJj"
      },
      "source": [
        "**Dataframe for monthly Product KPI**"
      ]
    },
    {
      "cell_type": "code",
      "metadata": {
        "colab": {
          "base_uri": "https://localhost:8080/",
          "height": 436
        },
        "id": "TNylahzknL9H",
        "outputId": "3d84d07d-2d5b-482e-bee8-c6613eed9ec6"
      },
      "source": [
        "p_kpi = pd.DataFrame(Transactions.groupby([Transactions.Year, Transactions.Month, Transactions.brand])['Profit'].sum()).round(decimals= 2)\n",
        "p_kpi.index.set_names(['Year', 'Month', 'brand'], inplace = True)\n",
        "p_kpi"
      ],
      "execution_count": 61,
      "outputs": [
        {
          "output_type": "execute_result",
          "data": {
            "text/html": [
              "<div>\n",
              "<style scoped>\n",
              "    .dataframe tbody tr th:only-of-type {\n",
              "        vertical-align: middle;\n",
              "    }\n",
              "\n",
              "    .dataframe tbody tr th {\n",
              "        vertical-align: top;\n",
              "    }\n",
              "\n",
              "    .dataframe thead th {\n",
              "        text-align: right;\n",
              "    }\n",
              "</style>\n",
              "<table border=\"1\" class=\"dataframe\">\n",
              "  <thead>\n",
              "    <tr style=\"text-align: right;\">\n",
              "      <th></th>\n",
              "      <th></th>\n",
              "      <th></th>\n",
              "      <th>Profit</th>\n",
              "    </tr>\n",
              "    <tr>\n",
              "      <th>Year</th>\n",
              "      <th>Month</th>\n",
              "      <th>brand</th>\n",
              "      <th></th>\n",
              "    </tr>\n",
              "  </thead>\n",
              "  <tbody>\n",
              "    <tr>\n",
              "      <th rowspan=\"11\" valign=\"top\">2017</th>\n",
              "      <th rowspan=\"5\" valign=\"top\">1</th>\n",
              "      <th>Giant Bicycles</th>\n",
              "      <td>125049.35</td>\n",
              "    </tr>\n",
              "    <tr>\n",
              "      <th>Norco Bicycles</th>\n",
              "      <td>71659.77</td>\n",
              "    </tr>\n",
              "    <tr>\n",
              "      <th>OHM Cycles</th>\n",
              "      <td>130794.65</td>\n",
              "    </tr>\n",
              "    <tr>\n",
              "      <th>Solex</th>\n",
              "      <td>206908.79</td>\n",
              "    </tr>\n",
              "    <tr>\n",
              "      <th>Trek Bicycles</th>\n",
              "      <td>143548.19</td>\n",
              "    </tr>\n",
              "    <tr>\n",
              "      <th>...</th>\n",
              "      <th>...</th>\n",
              "      <td>...</td>\n",
              "    </tr>\n",
              "    <tr>\n",
              "      <th rowspan=\"5\" valign=\"top\">12</th>\n",
              "      <th>Norco Bicycles</th>\n",
              "      <td>69543.43</td>\n",
              "    </tr>\n",
              "    <tr>\n",
              "      <th>OHM Cycles</th>\n",
              "      <td>113275.88</td>\n",
              "    </tr>\n",
              "    <tr>\n",
              "      <th>Solex</th>\n",
              "      <td>164199.91</td>\n",
              "    </tr>\n",
              "    <tr>\n",
              "      <th>Trek Bicycles</th>\n",
              "      <td>136566.79</td>\n",
              "    </tr>\n",
              "    <tr>\n",
              "      <th>WeareA2B</th>\n",
              "      <td>242731.88</td>\n",
              "    </tr>\n",
              "  </tbody>\n",
              "</table>\n",
              "<p>72 rows × 1 columns</p>\n",
              "</div>"
            ],
            "text/plain": [
              "                              Profit\n",
              "Year Month brand                    \n",
              "2017 1     Giant Bicycles  125049.35\n",
              "           Norco Bicycles   71659.77\n",
              "           OHM Cycles      130794.65\n",
              "           Solex           206908.79\n",
              "           Trek Bicycles   143548.19\n",
              "...                              ...\n",
              "     12    Norco Bicycles   69543.43\n",
              "           OHM Cycles      113275.88\n",
              "           Solex           164199.91\n",
              "           Trek Bicycles   136566.79\n",
              "           WeareA2B        242731.88\n",
              "\n",
              "[72 rows x 1 columns]"
            ]
          },
          "metadata": {
            "tags": []
          },
          "execution_count": 61
        }
      ]
    },
    {
      "cell_type": "markdown",
      "metadata": {
        "id": "oER3Ziwd6jIU"
      },
      "source": [
        "**Plotting the KPI**"
      ]
    },
    {
      "cell_type": "code",
      "metadata": {
        "colab": {
          "base_uri": "https://localhost:8080/",
          "height": 513
        },
        "id": "2CzK1rBoo5PX",
        "outputId": "ed000e45-c673-4154-bc55-2a6c94dacf5e"
      },
      "source": [
        "p_kpi.unstack().plot.bar(y='Profit', title='Brands v/s Monthly Profit', rot=0, figsize= (16,8));"
      ],
      "execution_count": 62,
      "outputs": [
        {
          "output_type": "display_data",
          "data": {
            "image/png": "[encoded data removed]",
            "text/plain": [
              "<Figure size 1152x576 with 1 Axes>"
            ]
          },
          "metadata": {
            "tags": []
          }
        }
      ]
    },
    {
      "cell_type": "markdown",
      "metadata": {
        "id": "nkeJU9vodsi0"
      },
      "source": [
        "# **4. Customer Segmentation using RFM**\n",
        "\n",
        "RFM stands for **“Recency, Frequency, Monetary Value”**. It is a way to figure out who your most valuable customers are. In this section, a **points system** is developed where **a number from 1 to 5** is assigned for each category, 5 implying highest value.\n",
        "\n",
        "In order to calculate RFM score, the following Customer data is required:\n",
        "1. Their most recent purchase date\n",
        "2. Number of purchases within a set time period (i.e. one year)\n",
        "3. Total sales from that customer"
      ]
    },
    {
      "cell_type": "markdown",
      "metadata": {
        "id": "D7DGjWzxz7SH"
      },
      "source": [
        "## **4.1 Preparing Data**"
      ]
    },
    {
      "cell_type": "code",
      "metadata": {
        "id": "uHgRlzXUlCZ3"
      },
      "source": [
        "rfm_df = Transactions.copy()\n",
        "\n",
        "# Merging of Transactions and Customer data\n",
        "rfm_df = rfm_df.merge(Customer, on='customer_id', how='left')"
      ],
      "execution_count": 63,
      "outputs": []
    },
    {
      "cell_type": "code",
      "metadata": {
        "id": "uWXgB0hVBNQk"
      },
      "source": [
        "rfm_df = rfm_df.dropna()"
      ],
      "execution_count": 64,
      "outputs": []
    },
    {
      "cell_type": "code",
      "metadata": {
        "colab": {
          "base_uri": "https://localhost:8080/",
          "height": 107
        },
        "id": "qQ9zlbyv4qg6",
        "outputId": "e9227c1e-ce62-4434-93f1-53df5570d21e"
      },
      "source": [
        "columns = ['customer_id', 'transaction_id', 'transaction_date', 'list_price', 'standard_cost', 'Profit']\n",
        "rfm_df = rfm_df[columns]\n",
        "\n",
        "rfm_df.head(2)"
      ],
      "execution_count": 65,
      "outputs": [
        {
          "output_type": "execute_result",
          "data": {
            "text/html": [
              "<div>\n",
              "<style scoped>\n",
              "    .dataframe tbody tr th:only-of-type {\n",
              "        vertical-align: middle;\n",
              "    }\n",
              "\n",
              "    .dataframe tbody tr th {\n",
              "        vertical-align: top;\n",
              "    }\n",
              "\n",
              "    .dataframe thead th {\n",
              "        text-align: right;\n",
              "    }\n",
              "</style>\n",
              "<table border=\"1\" class=\"dataframe\">\n",
              "  <thead>\n",
              "    <tr style=\"text-align: right;\">\n",
              "      <th></th>\n",
              "      <th>customer_id</th>\n",
              "      <th>transaction_id</th>\n",
              "      <th>transaction_date</th>\n",
              "      <th>list_price</th>\n",
              "      <th>standard_cost</th>\n",
              "      <th>Profit</th>\n",
              "    </tr>\n",
              "  </thead>\n",
              "  <tbody>\n",
              "    <tr>\n",
              "      <th>0</th>\n",
              "      <td>2950</td>\n",
              "      <td>1</td>\n",
              "      <td>2017-02-25</td>\n",
              "      <td>71.49</td>\n",
              "      <td>53.62</td>\n",
              "      <td>17.87</td>\n",
              "    </tr>\n",
              "    <tr>\n",
              "      <th>1</th>\n",
              "      <td>3120</td>\n",
              "      <td>2</td>\n",
              "      <td>2017-05-21</td>\n",
              "      <td>2091.47</td>\n",
              "      <td>388.92</td>\n",
              "      <td>1702.55</td>\n",
              "    </tr>\n",
              "  </tbody>\n",
              "</table>\n",
              "</div>"
            ],
            "text/plain": [
              "   customer_id  transaction_id  ... standard_cost   Profit\n",
              "0         2950               1  ...         53.62    17.87\n",
              "1         3120               2  ...        388.92  1702.55\n",
              "\n",
              "[2 rows x 6 columns]"
            ]
          },
          "metadata": {
            "tags": []
          },
          "execution_count": 65
        }
      ]
    },
    {
      "cell_type": "code",
      "metadata": {
        "colab": {
          "base_uri": "https://localhost:8080/"
        },
        "id": "Qi3PcfWfAgcW",
        "outputId": "b4fcc10b-655a-4572-c2a4-9a377465955c"
      },
      "source": [
        "rfm_df.shape"
      ],
      "execution_count": 66,
      "outputs": [
        {
          "output_type": "execute_result",
          "data": {
            "text/plain": [
              "(13488, 6)"
            ]
          },
          "metadata": {
            "tags": []
          },
          "execution_count": 66
        }
      ]
    },
    {
      "cell_type": "markdown",
      "metadata": {
        "id": "CwpqWkZp_LB4"
      },
      "source": [
        "## **4.2 Recency (R)**\n",
        "\n",
        "A Customer who has purchased recently from a company is more likely to continue to keep the bussiness and brand in mind for subsequent purchases as compared to customers who haven't been purchased for a while.\n",
        "\n",
        "**Scoring Methodology:** Assign a score from 1-5 to the customer on the basis of their latest purchase where 5 denotes the most recent purchase."
      ]
    },
    {
      "cell_type": "code",
      "metadata": {
        "colab": {
          "base_uri": "https://localhost:8080/"
        },
        "id": "N9PwUhcs-qc8",
        "outputId": "df7e3a5d-9c5d-4bfa-8de0-4ab07ff6b4a5"
      },
      "source": [
        "# To calculate recency we will need customer_id and date of transaction\n",
        "R_df = rfm_df[['customer_id', 'transaction_date']].copy()\n",
        "R_df = R_df.drop_duplicates().sort_values('transaction_date', ascending= False)\n",
        "\n",
        "R_df.reset_index(drop = True, inplace = True)\n",
        "R_df.shape"
      ],
      "execution_count": 67,
      "outputs": [
        {
          "output_type": "execute_result",
          "data": {
            "text/plain": [
              "(13407, 2)"
            ]
          },
          "metadata": {
            "tags": []
          },
          "execution_count": 67
        }
      ]
    },
    {
      "cell_type": "code",
      "metadata": {
        "colab": {
          "base_uri": "https://localhost:8080/",
          "height": 107
        },
        "id": "fw5g3hy-ev_G",
        "outputId": "90be4a2d-935e-4174-bf37-a38926959707"
      },
      "source": [
        "R_df.head(2)"
      ],
      "execution_count": 68,
      "outputs": [
        {
          "output_type": "execute_result",
          "data": {
            "text/html": [
              "<div>\n",
              "<style scoped>\n",
              "    .dataframe tbody tr th:only-of-type {\n",
              "        vertical-align: middle;\n",
              "    }\n",
              "\n",
              "    .dataframe tbody tr th {\n",
              "        vertical-align: top;\n",
              "    }\n",
              "\n",
              "    .dataframe thead th {\n",
              "        text-align: right;\n",
              "    }\n",
              "</style>\n",
              "<table border=\"1\" class=\"dataframe\">\n",
              "  <thead>\n",
              "    <tr style=\"text-align: right;\">\n",
              "      <th></th>\n",
              "      <th>customer_id</th>\n",
              "      <th>transaction_date</th>\n",
              "    </tr>\n",
              "  </thead>\n",
              "  <tbody>\n",
              "    <tr>\n",
              "      <th>0</th>\n",
              "      <td>195</td>\n",
              "      <td>2017-12-30</td>\n",
              "    </tr>\n",
              "    <tr>\n",
              "      <th>1</th>\n",
              "      <td>151</td>\n",
              "      <td>2017-12-30</td>\n",
              "    </tr>\n",
              "  </tbody>\n",
              "</table>\n",
              "</div>"
            ],
            "text/plain": [
              "   customer_id transaction_date\n",
              "0          195       2017-12-30\n",
              "1          151       2017-12-30"
            ]
          },
          "metadata": {
            "tags": []
          },
          "execution_count": 68
        }
      ]
    },
    {
      "cell_type": "code",
      "metadata": {
        "id": "2-hspCOXKU0c"
      },
      "source": [
        "R_df = R_df.groupby('customer_id',as_index=False).transaction_date.max()"
      ],
      "execution_count": 69,
      "outputs": []
    },
    {
      "cell_type": "code",
      "metadata": {
        "id": "lET6hgmTHtfg"
      },
      "source": [
        "R_df['R_days'] = (R_df['transaction_date'].max() - R_df['transaction_date']).dt.days"
      ],
      "execution_count": 70,
      "outputs": []
    },
    {
      "cell_type": "code",
      "metadata": {
        "colab": {
          "base_uri": "https://localhost:8080/",
          "height": 197
        },
        "id": "Unr2KAyuLP0q",
        "outputId": "71aba2fb-838c-4e09-c4ce-4d4de64adc0b"
      },
      "source": [
        "R_df.head()"
      ],
      "execution_count": 71,
      "outputs": [
        {
          "output_type": "execute_result",
          "data": {
            "text/html": [
              "<div>\n",
              "<style scoped>\n",
              "    .dataframe tbody tr th:only-of-type {\n",
              "        vertical-align: middle;\n",
              "    }\n",
              "\n",
              "    .dataframe tbody tr th {\n",
              "        vertical-align: top;\n",
              "    }\n",
              "\n",
              "    .dataframe thead th {\n",
              "        text-align: right;\n",
              "    }\n",
              "</style>\n",
              "<table border=\"1\" class=\"dataframe\">\n",
              "  <thead>\n",
              "    <tr style=\"text-align: right;\">\n",
              "      <th></th>\n",
              "      <th>customer_id</th>\n",
              "      <th>transaction_date</th>\n",
              "      <th>R_days</th>\n",
              "    </tr>\n",
              "  </thead>\n",
              "  <tbody>\n",
              "    <tr>\n",
              "      <th>0</th>\n",
              "      <td>1</td>\n",
              "      <td>2017-12-23</td>\n",
              "      <td>7</td>\n",
              "    </tr>\n",
              "    <tr>\n",
              "      <th>1</th>\n",
              "      <td>2</td>\n",
              "      <td>2017-08-24</td>\n",
              "      <td>128</td>\n",
              "    </tr>\n",
              "    <tr>\n",
              "      <th>2</th>\n",
              "      <td>9</td>\n",
              "      <td>2017-10-13</td>\n",
              "      <td>78</td>\n",
              "    </tr>\n",
              "    <tr>\n",
              "      <th>3</th>\n",
              "      <td>12</td>\n",
              "      <td>2017-10-24</td>\n",
              "      <td>67</td>\n",
              "    </tr>\n",
              "    <tr>\n",
              "      <th>4</th>\n",
              "      <td>13</td>\n",
              "      <td>2017-12-03</td>\n",
              "      <td>27</td>\n",
              "    </tr>\n",
              "  </tbody>\n",
              "</table>\n",
              "</div>"
            ],
            "text/plain": [
              "   customer_id transaction_date  R_days\n",
              "0            1       2017-12-23       7\n",
              "1            2       2017-08-24     128\n",
              "2            9       2017-10-13      78\n",
              "3           12       2017-10-24      67\n",
              "4           13       2017-12-03      27"
            ]
          },
          "metadata": {
            "tags": []
          },
          "execution_count": 71
        }
      ]
    },
    {
      "cell_type": "markdown",
      "metadata": {
        "id": "IoRqX5UhfPkl"
      },
      "source": [
        "The latest date for transaction is **30/12/2017**"
      ]
    },
    {
      "cell_type": "code",
      "metadata": {
        "colab": {
          "base_uri": "https://localhost:8080/",
          "height": 197
        },
        "id": "D4VkJAWzDdBA",
        "outputId": "22e97d54-e8f0-474b-d359-cdccdd766586"
      },
      "source": [
        "r_labels = range(1, 6)\n",
        "r_groups = pd.qcut(R_df['transaction_date'], q=5, labels=r_labels)\n",
        "\n",
        "R_df = R_df.assign(R = r_groups.values)\n",
        "R_df.head()"
      ],
      "execution_count": 72,
      "outputs": [
        {
          "output_type": "execute_result",
          "data": {
            "text/html": [
              "<div>\n",
              "<style scoped>\n",
              "    .dataframe tbody tr th:only-of-type {\n",
              "        vertical-align: middle;\n",
              "    }\n",
              "\n",
              "    .dataframe tbody tr th {\n",
              "        vertical-align: top;\n",
              "    }\n",
              "\n",
              "    .dataframe thead th {\n",
              "        text-align: right;\n",
              "    }\n",
              "</style>\n",
              "<table border=\"1\" class=\"dataframe\">\n",
              "  <thead>\n",
              "    <tr style=\"text-align: right;\">\n",
              "      <th></th>\n",
              "      <th>customer_id</th>\n",
              "      <th>transaction_date</th>\n",
              "      <th>R_days</th>\n",
              "      <th>R</th>\n",
              "    </tr>\n",
              "  </thead>\n",
              "  <tbody>\n",
              "    <tr>\n",
              "      <th>0</th>\n",
              "      <td>1</td>\n",
              "      <td>2017-12-23</td>\n",
              "      <td>7</td>\n",
              "      <td>5</td>\n",
              "    </tr>\n",
              "    <tr>\n",
              "      <th>1</th>\n",
              "      <td>2</td>\n",
              "      <td>2017-08-24</td>\n",
              "      <td>128</td>\n",
              "      <td>1</td>\n",
              "    </tr>\n",
              "    <tr>\n",
              "      <th>2</th>\n",
              "      <td>9</td>\n",
              "      <td>2017-10-13</td>\n",
              "      <td>78</td>\n",
              "      <td>2</td>\n",
              "    </tr>\n",
              "    <tr>\n",
              "      <th>3</th>\n",
              "      <td>12</td>\n",
              "      <td>2017-10-24</td>\n",
              "      <td>67</td>\n",
              "      <td>2</td>\n",
              "    </tr>\n",
              "    <tr>\n",
              "      <th>4</th>\n",
              "      <td>13</td>\n",
              "      <td>2017-12-03</td>\n",
              "      <td>27</td>\n",
              "      <td>4</td>\n",
              "    </tr>\n",
              "  </tbody>\n",
              "</table>\n",
              "</div>"
            ],
            "text/plain": [
              "   customer_id transaction_date  R_days  R\n",
              "0            1       2017-12-23       7  5\n",
              "1            2       2017-08-24     128  1\n",
              "2            9       2017-10-13      78  2\n",
              "3           12       2017-10-24      67  2\n",
              "4           13       2017-12-03      27  4"
            ]
          },
          "metadata": {
            "tags": []
          },
          "execution_count": 72
        }
      ]
    },
    {
      "cell_type": "code",
      "metadata": {
        "colab": {
          "base_uri": "https://localhost:8080/",
          "height": 337
        },
        "id": "ONVw58jLRg84",
        "outputId": "97b79c43-ed70-4a04-ac33-e93f53d238e8"
      },
      "source": [
        "R_df.R_days.plot.hist(bins=50, color='teal')"
      ],
      "execution_count": 73,
      "outputs": [
        {
          "output_type": "execute_result",
          "data": {
            "text/plain": [
              "<matplotlib.axes._subplots.AxesSubplot at 0x7f9ea4596d10>"
            ]
          },
          "metadata": {
            "tags": []
          },
          "execution_count": 73
        },
        {
          "output_type": "display_data",
          "data": {
            "image/png": "[encoded data removed]",
            "text/plain": [
              "<Figure size 648x360 with 1 Axes>"
            ]
          },
          "metadata": {
            "tags": []
          }
        }
      ]
    },
    {
      "cell_type": "markdown",
      "metadata": {
        "id": "g8Y1IyD4bhzr"
      },
      "source": [
        "As customer_id is repeated several times in the result, we take the maximum value of R as the recency score for each customer. We will now group the result by customer_id."
      ]
    },
    {
      "cell_type": "code",
      "metadata": {
        "colab": {
          "base_uri": "https://localhost:8080/"
        },
        "id": "dIQyRX1ja_0X",
        "outputId": "4505d138-8091-49c6-f5c1-f23e810fd086"
      },
      "source": [
        "R_df['R'].value_counts()"
      ],
      "execution_count": 74,
      "outputs": [
        {
          "output_type": "execute_result",
          "data": {
            "text/plain": [
              "3    495\n",
              "1    494\n",
              "2    492\n",
              "4    485\n",
              "5    477\n",
              "Name: R, dtype: int64"
            ]
          },
          "metadata": {
            "tags": []
          },
          "execution_count": 74
        }
      ]
    },
    {
      "cell_type": "code",
      "metadata": {
        "colab": {
          "base_uri": "https://localhost:8080/",
          "height": 352
        },
        "id": "0pVnQGs9eTyq",
        "outputId": "64c5bc27-06d2-4637-84a9-e80bafb5dd12"
      },
      "source": [
        "sns.countplot(x='R', data= R_df, palette= \"viridis\")\n",
        "plt.xlabel('R')\n",
        "plt.title('Count of R score', fontsize=15)\n",
        "plt.show()"
      ],
      "execution_count": 75,
      "outputs": [
        {
          "output_type": "display_data",
          "data": {
            "image/png": "[encoded data removed]",
            "text/plain": [
              "<Figure size 648x360 with 1 Axes>"
            ]
          },
          "metadata": {
            "tags": []
          }
        }
      ]
    },
    {
      "cell_type": "markdown",
      "metadata": {
        "id": "9nXvCjHxx8rR"
      },
      "source": [
        "It is observed that more than half of the customers have made a transaction recently (in the past 2 months). At the same time there is a significant drop in customers who haven't purchased anything lately. \n",
        "\n",
        "This information can be used to identify each customer and:\n",
        "*   Remind recent customers to revisit the business soon to continue meeting their puchase needs.\n",
        "*   Make marketing efforts to regain business with inactive customers by offering incentives."
      ]
    },
    {
      "cell_type": "markdown",
      "metadata": {
        "id": "ON4Dz3D1zrQW"
      },
      "source": [
        "## **4.3 Frequency (F)**\n",
        "\n",
        "The frequency of a customer’s transactions may be affected by a number of factors like product type, price, need for replenishment or replacement, etc. If the purchase cycle can be predicted, marketing efforts could be directed towards reminding them to visit the business.\n",
        "\n",
        "**Scoring Methodology:** Count the number of transactions for each customer, split the output into five parts (1-5) with 5 denoting the most frequent customer segment and 1 denoting the least."
      ]
    },
    {
      "cell_type": "code",
      "metadata": {
        "colab": {
          "base_uri": "https://localhost:8080/"
        },
        "id": "y73bzRXsx5by",
        "outputId": "fa838d6b-768c-4e50-a610-5dfcf14049da"
      },
      "source": [
        "# To calculate frequency we will need customer_id and number of transactions\n",
        "F_df = rfm_df[['customer_id', 'transaction_id']].copy()\n",
        "F_df = F_df.drop_duplicates().sort_values('customer_id')\n",
        "\n",
        "F_df.reset_index(drop = True, inplace = True)\n",
        "F_df.shape"
      ],
      "execution_count": 76,
      "outputs": [
        {
          "output_type": "execute_result",
          "data": {
            "text/plain": [
              "(13488, 2)"
            ]
          },
          "metadata": {
            "tags": []
          },
          "execution_count": 76
        }
      ]
    },
    {
      "cell_type": "code",
      "metadata": {
        "colab": {
          "base_uri": "https://localhost:8080/",
          "height": 107
        },
        "id": "RejSBE-4tjnL",
        "outputId": "a26e27b0-3224-426f-f083-49423c365191"
      },
      "source": [
        "F_df.head(2)"
      ],
      "execution_count": 77,
      "outputs": [
        {
          "output_type": "execute_result",
          "data": {
            "text/html": [
              "<div>\n",
              "<style scoped>\n",
              "    .dataframe tbody tr th:only-of-type {\n",
              "        vertical-align: middle;\n",
              "    }\n",
              "\n",
              "    .dataframe tbody tr th {\n",
              "        vertical-align: top;\n",
              "    }\n",
              "\n",
              "    .dataframe thead th {\n",
              "        text-align: right;\n",
              "    }\n",
              "</style>\n",
              "<table border=\"1\" class=\"dataframe\">\n",
              "  <thead>\n",
              "    <tr style=\"text-align: right;\">\n",
              "      <th></th>\n",
              "      <th>customer_id</th>\n",
              "      <th>transaction_id</th>\n",
              "    </tr>\n",
              "  </thead>\n",
              "  <tbody>\n",
              "    <tr>\n",
              "      <th>0</th>\n",
              "      <td>1</td>\n",
              "      <td>9785</td>\n",
              "    </tr>\n",
              "    <tr>\n",
              "      <th>1</th>\n",
              "      <td>1</td>\n",
              "      <td>14931</td>\n",
              "    </tr>\n",
              "  </tbody>\n",
              "</table>\n",
              "</div>"
            ],
            "text/plain": [
              "   customer_id  transaction_id\n",
              "0            1            9785\n",
              "1            1           14931"
            ]
          },
          "metadata": {
            "tags": []
          },
          "execution_count": 77
        }
      ]
    },
    {
      "cell_type": "code",
      "metadata": {
        "colab": {
          "base_uri": "https://localhost:8080/",
          "height": 107
        },
        "id": "IkcyBmqy2w_m",
        "outputId": "f17fcd3c-20f1-4761-a7be-c284da57f249"
      },
      "source": [
        "F_df = F_df.groupby('customer_id',as_index=False).aggregate('count')\n",
        "F_df = F_df.rename(columns = {'transaction_id': 'frequency'})\n",
        "F_df.head(2)"
      ],
      "execution_count": 78,
      "outputs": [
        {
          "output_type": "execute_result",
          "data": {
            "text/html": [
              "<div>\n",
              "<style scoped>\n",
              "    .dataframe tbody tr th:only-of-type {\n",
              "        vertical-align: middle;\n",
              "    }\n",
              "\n",
              "    .dataframe tbody tr th {\n",
              "        vertical-align: top;\n",
              "    }\n",
              "\n",
              "    .dataframe thead th {\n",
              "        text-align: right;\n",
              "    }\n",
              "</style>\n",
              "<table border=\"1\" class=\"dataframe\">\n",
              "  <thead>\n",
              "    <tr style=\"text-align: right;\">\n",
              "      <th></th>\n",
              "      <th>customer_id</th>\n",
              "      <th>frequency</th>\n",
              "    </tr>\n",
              "  </thead>\n",
              "  <tbody>\n",
              "    <tr>\n",
              "      <th>0</th>\n",
              "      <td>1</td>\n",
              "      <td>11</td>\n",
              "    </tr>\n",
              "    <tr>\n",
              "      <th>1</th>\n",
              "      <td>2</td>\n",
              "      <td>3</td>\n",
              "    </tr>\n",
              "  </tbody>\n",
              "</table>\n",
              "</div>"
            ],
            "text/plain": [
              "   customer_id  frequency\n",
              "0            1         11\n",
              "1            2          3"
            ]
          },
          "metadata": {
            "tags": []
          },
          "execution_count": 78
        }
      ]
    },
    {
      "cell_type": "code",
      "metadata": {
        "colab": {
          "base_uri": "https://localhost:8080/"
        },
        "id": "y-Kw3xxp4b7j",
        "outputId": "40d5489c-eefd-4670-955b-57e9bb30910b"
      },
      "source": [
        "print('Maximum frequency= ',F_df['frequency'].max())\n",
        "print('Minimum frequency= ',F_df['frequency'].min())"
      ],
      "execution_count": 79,
      "outputs": [
        {
          "output_type": "stream",
          "text": [
            "Maximum frequency=  14\n",
            "Minimum frequency=  1\n"
          ],
          "name": "stdout"
        }
      ]
    },
    {
      "cell_type": "markdown",
      "metadata": {
        "id": "yE69ED7A4wkJ"
      },
      "source": [
        "Segregating customers by assigning a Score from 1 to 5 on the basis on who visits the store more often."
      ]
    },
    {
      "cell_type": "code",
      "metadata": {
        "colab": {
          "base_uri": "https://localhost:8080/",
          "height": 197
        },
        "id": "Ooxp4_abHhAV",
        "outputId": "764f7b72-179a-4213-c703-16fce49eba36"
      },
      "source": [
        "f_labels = range(1, 6)\n",
        "f_groups = pd.qcut(F_df['frequency'], q=5, labels=f_labels)\n",
        "\n",
        "F_df = F_df.assign(F = f_groups.values)\n",
        "F_df.head()"
      ],
      "execution_count": 80,
      "outputs": [
        {
          "output_type": "execute_result",
          "data": {
            "text/html": [
              "<div>\n",
              "<style scoped>\n",
              "    .dataframe tbody tr th:only-of-type {\n",
              "        vertical-align: middle;\n",
              "    }\n",
              "\n",
              "    .dataframe tbody tr th {\n",
              "        vertical-align: top;\n",
              "    }\n",
              "\n",
              "    .dataframe thead th {\n",
              "        text-align: right;\n",
              "    }\n",
              "</style>\n",
              "<table border=\"1\" class=\"dataframe\">\n",
              "  <thead>\n",
              "    <tr style=\"text-align: right;\">\n",
              "      <th></th>\n",
              "      <th>customer_id</th>\n",
              "      <th>frequency</th>\n",
              "      <th>F</th>\n",
              "    </tr>\n",
              "  </thead>\n",
              "  <tbody>\n",
              "    <tr>\n",
              "      <th>0</th>\n",
              "      <td>1</td>\n",
              "      <td>11</td>\n",
              "      <td>5</td>\n",
              "    </tr>\n",
              "    <tr>\n",
              "      <th>1</th>\n",
              "      <td>2</td>\n",
              "      <td>3</td>\n",
              "      <td>1</td>\n",
              "    </tr>\n",
              "    <tr>\n",
              "      <th>2</th>\n",
              "      <td>9</td>\n",
              "      <td>6</td>\n",
              "      <td>3</td>\n",
              "    </tr>\n",
              "    <tr>\n",
              "      <th>3</th>\n",
              "      <td>12</td>\n",
              "      <td>7</td>\n",
              "      <td>4</td>\n",
              "    </tr>\n",
              "    <tr>\n",
              "      <th>4</th>\n",
              "      <td>13</td>\n",
              "      <td>7</td>\n",
              "      <td>4</td>\n",
              "    </tr>\n",
              "  </tbody>\n",
              "</table>\n",
              "</div>"
            ],
            "text/plain": [
              "   customer_id  frequency  F\n",
              "0            1         11  5\n",
              "1            2          3  1\n",
              "2            9          6  3\n",
              "3           12          7  4\n",
              "4           13          7  4"
            ]
          },
          "metadata": {
            "tags": []
          },
          "execution_count": 80
        }
      ]
    },
    {
      "cell_type": "code",
      "metadata": {
        "colab": {
          "base_uri": "https://localhost:8080/"
        },
        "id": "yAO3N6Wv7cX-",
        "outputId": "600bf2c7-cffa-4031-d4b0-156b9d0d5200"
      },
      "source": [
        "F_df['F'].value_counts()"
      ],
      "execution_count": 81,
      "outputs": [
        {
          "output_type": "execute_result",
          "data": {
            "text/plain": [
              "1    863\n",
              "5    457\n",
              "2    421\n",
              "3    410\n",
              "4    292\n",
              "Name: F, dtype: int64"
            ]
          },
          "metadata": {
            "tags": []
          },
          "execution_count": 81
        }
      ]
    },
    {
      "cell_type": "code",
      "metadata": {
        "colab": {
          "base_uri": "https://localhost:8080/",
          "height": 352
        },
        "id": "uD8uLff57c9z",
        "outputId": "8d7f039d-9285-46fa-ac7e-f34828dd7d57"
      },
      "source": [
        "sns.countplot(x='F', data= F_df, palette=\"viridis\")\n",
        "plt.xlabel('F')\n",
        "plt.title('Count of F score', fontsize=15)\n",
        "plt.show()"
      ],
      "execution_count": 82,
      "outputs": [
        {
          "output_type": "display_data",
          "data": {
            "image/png": "[encoded data removed]",
            "text/plain": [
              "<Figure size 648x360 with 1 Axes>"
            ]
          },
          "metadata": {
            "tags": []
          }
        }
      ]
    },
    {
      "cell_type": "markdown",
      "metadata": {
        "id": "M6ZgLrpR86DM"
      },
      "source": [
        "## **4.4 Monetary Value (M)**\n",
        "\n",
        "Monetary value provides information on the expenditures of customer during each transaction. A customer who makes a large purchase is more likely to buy again than a customer who spends a lot less.\n",
        "\n",
        "**Scoring Methodology:** Sum up the trasaction costs for each customer_id and assign a Score from 1-5 where 5 denotes the highest spending customer and 1 denoting the least."
      ]
    },
    {
      "cell_type": "code",
      "metadata": {
        "colab": {
          "base_uri": "https://localhost:8080/"
        },
        "id": "_8j30MgM85Br",
        "outputId": "d9f6506b-5ef3-4f60-9e34-989775e035b3"
      },
      "source": [
        "# To calculate monetary value we will need customer_id and the list_price of products sold\n",
        "M_df = rfm_df[['customer_id', 'list_price']].copy()\n",
        "M_df = M_df.drop_duplicates().sort_values('customer_id')\n",
        "\n",
        "M_df.reset_index(drop = True, inplace = True)\n",
        "M_df.shape"
      ],
      "execution_count": 83,
      "outputs": [
        {
          "output_type": "execute_result",
          "data": {
            "text/plain": [
              "(13061, 2)"
            ]
          },
          "metadata": {
            "tags": []
          },
          "execution_count": 83
        }
      ]
    },
    {
      "cell_type": "code",
      "metadata": {
        "colab": {
          "base_uri": "https://localhost:8080/",
          "height": 107
        },
        "id": "MaEpZ3UICptC",
        "outputId": "6087bcf8-cfa4-473d-b411-ebdf43e75d5b"
      },
      "source": [
        "M_df.head(2)"
      ],
      "execution_count": 84,
      "outputs": [
        {
          "output_type": "execute_result",
          "data": {
            "text/html": [
              "<div>\n",
              "<style scoped>\n",
              "    .dataframe tbody tr th:only-of-type {\n",
              "        vertical-align: middle;\n",
              "    }\n",
              "\n",
              "    .dataframe tbody tr th {\n",
              "        vertical-align: top;\n",
              "    }\n",
              "\n",
              "    .dataframe thead th {\n",
              "        text-align: right;\n",
              "    }\n",
              "</style>\n",
              "<table border=\"1\" class=\"dataframe\">\n",
              "  <thead>\n",
              "    <tr style=\"text-align: right;\">\n",
              "      <th></th>\n",
              "      <th>customer_id</th>\n",
              "      <th>list_price</th>\n",
              "    </tr>\n",
              "  </thead>\n",
              "  <tbody>\n",
              "    <tr>\n",
              "      <th>0</th>\n",
              "      <td>1</td>\n",
              "      <td>1720.70</td>\n",
              "    </tr>\n",
              "    <tr>\n",
              "      <th>1</th>\n",
              "      <td>1</td>\n",
              "      <td>230.91</td>\n",
              "    </tr>\n",
              "  </tbody>\n",
              "</table>\n",
              "</div>"
            ],
            "text/plain": [
              "   customer_id  list_price\n",
              "0            1     1720.70\n",
              "1            1      230.91"
            ]
          },
          "metadata": {
            "tags": []
          },
          "execution_count": 84
        }
      ]
    },
    {
      "cell_type": "code",
      "metadata": {
        "colab": {
          "base_uri": "https://localhost:8080/",
          "height": 197
        },
        "id": "7X8OHrPJCtre",
        "outputId": "f98c4b79-7328-41cc-8f69-e6609c6095d6"
      },
      "source": [
        "M_df = M_df.groupby('customer_id',as_index=False).aggregate('sum')\n",
        "M_df = M_df.rename(columns = {'list_price': 'monetary_value'})\n",
        "M_df.head()"
      ],
      "execution_count": 85,
      "outputs": [
        {
          "output_type": "execute_result",
          "data": {
            "text/html": [
              "<div>\n",
              "<style scoped>\n",
              "    .dataframe tbody tr th:only-of-type {\n",
              "        vertical-align: middle;\n",
              "    }\n",
              "\n",
              "    .dataframe tbody tr th {\n",
              "        vertical-align: top;\n",
              "    }\n",
              "\n",
              "    .dataframe thead th {\n",
              "        text-align: right;\n",
              "    }\n",
              "</style>\n",
              "<table border=\"1\" class=\"dataframe\">\n",
              "  <thead>\n",
              "    <tr style=\"text-align: right;\">\n",
              "      <th></th>\n",
              "      <th>customer_id</th>\n",
              "      <th>monetary_value</th>\n",
              "    </tr>\n",
              "  </thead>\n",
              "  <tbody>\n",
              "    <tr>\n",
              "      <th>0</th>\n",
              "      <td>1</td>\n",
              "      <td>9084.45</td>\n",
              "    </tr>\n",
              "    <tr>\n",
              "      <th>1</th>\n",
              "      <td>2</td>\n",
              "      <td>4149.07</td>\n",
              "    </tr>\n",
              "    <tr>\n",
              "      <th>2</th>\n",
              "      <td>9</td>\n",
              "      <td>5357.55</td>\n",
              "    </tr>\n",
              "    <tr>\n",
              "      <th>3</th>\n",
              "      <td>12</td>\n",
              "      <td>6033.81</td>\n",
              "    </tr>\n",
              "    <tr>\n",
              "      <th>4</th>\n",
              "      <td>13</td>\n",
              "      <td>7734.74</td>\n",
              "    </tr>\n",
              "  </tbody>\n",
              "</table>\n",
              "</div>"
            ],
            "text/plain": [
              "   customer_id  monetary_value\n",
              "0            1         9084.45\n",
              "1            2         4149.07\n",
              "2            9         5357.55\n",
              "3           12         6033.81\n",
              "4           13         7734.74"
            ]
          },
          "metadata": {
            "tags": []
          },
          "execution_count": 85
        }
      ]
    },
    {
      "cell_type": "code",
      "metadata": {
        "colab": {
          "base_uri": "https://localhost:8080/"
        },
        "id": "X_WJ-AziDNev",
        "outputId": "89f5e83f-2acf-4e5c-c7fd-5af5b5197424"
      },
      "source": [
        "print('Maximum monetary value= ', M_df['monetary_value'].max())\n",
        "print('Minimum monetary value= ', M_df['monetary_value'].min())"
      ],
      "execution_count": 86,
      "outputs": [
        {
          "output_type": "stream",
          "text": [
            "Maximum monetary value=  15447.919999999998\n",
            "Minimum monetary value=  60.34\n"
          ],
          "name": "stdout"
        }
      ]
    },
    {
      "cell_type": "markdown",
      "metadata": {
        "id": "UH6Q2-KGF61D"
      },
      "source": [
        "We further assign score (1-5) to the values obtained in monetary_value column."
      ]
    },
    {
      "cell_type": "code",
      "metadata": {
        "colab": {
          "base_uri": "https://localhost:8080/",
          "height": 197
        },
        "id": "x4LpS7YtInFb",
        "outputId": "6d6b8489-19c1-4276-d5f9-a1b9f4fb632b"
      },
      "source": [
        "m_labels = range(1, 6)\n",
        "m_groups = pd.qcut(M_df['monetary_value'], q=5, labels=m_labels)\n",
        "\n",
        "M_df = M_df.assign(M = m_groups.values)\n",
        "M_df.head()"
      ],
      "execution_count": 87,
      "outputs": [
        {
          "output_type": "execute_result",
          "data": {
            "text/html": [
              "<div>\n",
              "<style scoped>\n",
              "    .dataframe tbody tr th:only-of-type {\n",
              "        vertical-align: middle;\n",
              "    }\n",
              "\n",
              "    .dataframe tbody tr th {\n",
              "        vertical-align: top;\n",
              "    }\n",
              "\n",
              "    .dataframe thead th {\n",
              "        text-align: right;\n",
              "    }\n",
              "</style>\n",
              "<table border=\"1\" class=\"dataframe\">\n",
              "  <thead>\n",
              "    <tr style=\"text-align: right;\">\n",
              "      <th></th>\n",
              "      <th>customer_id</th>\n",
              "      <th>monetary_value</th>\n",
              "      <th>M</th>\n",
              "    </tr>\n",
              "  </thead>\n",
              "  <tbody>\n",
              "    <tr>\n",
              "      <th>0</th>\n",
              "      <td>1</td>\n",
              "      <td>9084.45</td>\n",
              "      <td>5</td>\n",
              "    </tr>\n",
              "    <tr>\n",
              "      <th>1</th>\n",
              "      <td>2</td>\n",
              "      <td>4149.07</td>\n",
              "      <td>2</td>\n",
              "    </tr>\n",
              "    <tr>\n",
              "      <th>2</th>\n",
              "      <td>9</td>\n",
              "      <td>5357.55</td>\n",
              "      <td>3</td>\n",
              "    </tr>\n",
              "    <tr>\n",
              "      <th>3</th>\n",
              "      <td>12</td>\n",
              "      <td>6033.81</td>\n",
              "      <td>3</td>\n",
              "    </tr>\n",
              "    <tr>\n",
              "      <th>4</th>\n",
              "      <td>13</td>\n",
              "      <td>7734.74</td>\n",
              "      <td>4</td>\n",
              "    </tr>\n",
              "  </tbody>\n",
              "</table>\n",
              "</div>"
            ],
            "text/plain": [
              "   customer_id  monetary_value  M\n",
              "0            1         9084.45  5\n",
              "1            2         4149.07  2\n",
              "2            9         5357.55  3\n",
              "3           12         6033.81  3\n",
              "4           13         7734.74  4"
            ]
          },
          "metadata": {
            "tags": []
          },
          "execution_count": 87
        }
      ]
    },
    {
      "cell_type": "code",
      "metadata": {
        "colab": {
          "base_uri": "https://localhost:8080/"
        },
        "id": "tpDRanM_E5zA",
        "outputId": "3f0ffcd4-28be-40ec-bd5b-83c50f1981b0"
      },
      "source": [
        "M_df['M'].value_counts()"
      ],
      "execution_count": 88,
      "outputs": [
        {
          "output_type": "execute_result",
          "data": {
            "text/plain": [
              "5    489\n",
              "3    489\n",
              "1    489\n",
              "4    488\n",
              "2    488\n",
              "Name: M, dtype: int64"
            ]
          },
          "metadata": {
            "tags": []
          },
          "execution_count": 88
        }
      ]
    },
    {
      "cell_type": "code",
      "metadata": {
        "colab": {
          "base_uri": "https://localhost:8080/",
          "height": 352
        },
        "id": "V_v09oQQE-Fz",
        "outputId": "b1080d43-d22a-4924-c8c3-817c658f22a6"
      },
      "source": [
        "sns.countplot(x='M', data= M_df, palette=\"viridis\")\n",
        "plt.xlabel('M')\n",
        "plt.title('Count of M score', fontsize=15)\n",
        "plt.show()"
      ],
      "execution_count": 89,
      "outputs": [
        {
          "output_type": "display_data",
          "data": {
            "image/png": "[encoded data removed]",
            "text/plain": [
              "<Figure size 648x360 with 1 Axes>"
            ]
          },
          "metadata": {
            "tags": []
          }
        }
      ]
    },
    {
      "cell_type": "markdown",
      "metadata": {
        "id": "q7HPuGySaBfx"
      },
      "source": [
        "## **4.5 Final RFM Score**\n",
        "\n",
        "In this section, various techniques have been discussed for the task of segmentation of customers into different groups with the help of R, F and M Scores."
      ]
    },
    {
      "cell_type": "code",
      "metadata": {
        "id": "XwviHrGmaANu"
      },
      "source": [
        "RFM_df = pd.merge(R_df, F_df[['customer_id','frequency','F']], on=['customer_id'], how='left')\n",
        "RFM_df = pd.merge(RFM_df, M_df[['customer_id','monetary_value','M']], on=['customer_id'], how='left')"
      ],
      "execution_count": 90,
      "outputs": []
    },
    {
      "cell_type": "markdown",
      "metadata": {
        "id": "BKk3LbAX-ZRB"
      },
      "source": [
        "### **4.5.1. Method 1- Concatenation of R, F, M:**"
      ]
    },
    {
      "cell_type": "code",
      "metadata": {
        "colab": {
          "base_uri": "https://localhost:8080/",
          "height": 197
        },
        "id": "5qpZx2tieBD_",
        "outputId": "36f80c79-4fda-4115-9ef1-6ef9d90f23a3"
      },
      "source": [
        "RFM_df['RFM_score_concat'] = RFM_df[['R','F','M']].astype(str).apply(lambda x: ''.join(x), axis = 1)\n",
        "RFM_df.head()"
      ],
      "execution_count": 91,
      "outputs": [
        {
          "output_type": "execute_result",
          "data": {
            "text/html": [
              "<div>\n",
              "<style scoped>\n",
              "    .dataframe tbody tr th:only-of-type {\n",
              "        vertical-align: middle;\n",
              "    }\n",
              "\n",
              "    .dataframe tbody tr th {\n",
              "        vertical-align: top;\n",
              "    }\n",
              "\n",
              "    .dataframe thead th {\n",
              "        text-align: right;\n",
              "    }\n",
              "</style>\n",
              "<table border=\"1\" class=\"dataframe\">\n",
              "  <thead>\n",
              "    <tr style=\"text-align: right;\">\n",
              "      <th></th>\n",
              "      <th>customer_id</th>\n",
              "      <th>transaction_date</th>\n",
              "      <th>R_days</th>\n",
              "      <th>R</th>\n",
              "      <th>frequency</th>\n",
              "      <th>F</th>\n",
              "      <th>monetary_value</th>\n",
              "      <th>M</th>\n",
              "      <th>RFM_score_concat</th>\n",
              "    </tr>\n",
              "  </thead>\n",
              "  <tbody>\n",
              "    <tr>\n",
              "      <th>0</th>\n",
              "      <td>1</td>\n",
              "      <td>2017-12-23</td>\n",
              "      <td>7</td>\n",
              "      <td>5</td>\n",
              "      <td>11</td>\n",
              "      <td>5</td>\n",
              "      <td>9084.45</td>\n",
              "      <td>5</td>\n",
              "      <td>555</td>\n",
              "    </tr>\n",
              "    <tr>\n",
              "      <th>1</th>\n",
              "      <td>2</td>\n",
              "      <td>2017-08-24</td>\n",
              "      <td>128</td>\n",
              "      <td>1</td>\n",
              "      <td>3</td>\n",
              "      <td>1</td>\n",
              "      <td>4149.07</td>\n",
              "      <td>2</td>\n",
              "      <td>112</td>\n",
              "    </tr>\n",
              "    <tr>\n",
              "      <th>2</th>\n",
              "      <td>9</td>\n",
              "      <td>2017-10-13</td>\n",
              "      <td>78</td>\n",
              "      <td>2</td>\n",
              "      <td>6</td>\n",
              "      <td>3</td>\n",
              "      <td>5357.55</td>\n",
              "      <td>3</td>\n",
              "      <td>233</td>\n",
              "    </tr>\n",
              "    <tr>\n",
              "      <th>3</th>\n",
              "      <td>12</td>\n",
              "      <td>2017-10-24</td>\n",
              "      <td>67</td>\n",
              "      <td>2</td>\n",
              "      <td>7</td>\n",
              "      <td>4</td>\n",
              "      <td>6033.81</td>\n",
              "      <td>3</td>\n",
              "      <td>243</td>\n",
              "    </tr>\n",
              "    <tr>\n",
              "      <th>4</th>\n",
              "      <td>13</td>\n",
              "      <td>2017-12-03</td>\n",
              "      <td>27</td>\n",
              "      <td>4</td>\n",
              "      <td>7</td>\n",
              "      <td>4</td>\n",
              "      <td>7734.74</td>\n",
              "      <td>4</td>\n",
              "      <td>444</td>\n",
              "    </tr>\n",
              "  </tbody>\n",
              "</table>\n",
              "</div>"
            ],
            "text/plain": [
              "   customer_id transaction_date  R_days  ... monetary_value  M RFM_score_concat\n",
              "0            1       2017-12-23       7  ...        9084.45  5              555\n",
              "1            2       2017-08-24     128  ...        4149.07  2              112\n",
              "2            9       2017-10-13      78  ...        5357.55  3              233\n",
              "3           12       2017-10-24      67  ...        6033.81  3              243\n",
              "4           13       2017-12-03      27  ...        7734.74  4              444\n",
              "\n",
              "[5 rows x 9 columns]"
            ]
          },
          "metadata": {
            "tags": []
          },
          "execution_count": 91
        }
      ]
    },
    {
      "cell_type": "code",
      "metadata": {
        "colab": {
          "base_uri": "https://localhost:8080/"
        },
        "id": "N0K9kWIq8n8R",
        "outputId": "924f0dd8-7e41-400c-aed5-d66f598f2104"
      },
      "source": [
        "RFM_df['RFM_score_concat'].nunique()"
      ],
      "execution_count": 92,
      "outputs": [
        {
          "output_type": "execute_result",
          "data": {
            "text/plain": [
              "109"
            ]
          },
          "metadata": {
            "tags": []
          },
          "execution_count": 92
        }
      ]
    },
    {
      "cell_type": "markdown",
      "metadata": {
        "id": "XQVrZGEw83HH"
      },
      "source": [
        "Using the **concatenation** method, we got **109 different customer segments** with is **not feasible** in practical use. So we will follow **another popular approach** of **summing the R, F, M score** for each customer_id.\n"
      ]
    },
    {
      "cell_type": "markdown",
      "metadata": {
        "id": "CR8CRmv7-mLn"
      },
      "source": [
        "### **4.5.2. Method 2- Summing up of R, F, M:**\n",
        "Summing the scores to a single number and defining RFM levels for each score range."
      ]
    },
    {
      "cell_type": "code",
      "metadata": {
        "colab": {
          "base_uri": "https://localhost:8080/",
          "height": 197
        },
        "id": "bDymf2i79aGr",
        "outputId": "9e074058-66f3-4d11-d74f-45112d71d6e1"
      },
      "source": [
        "RFM_df['RFM_score'] = RFM_df[['R', 'F', 'M']].sum(axis = 1)\n",
        "RFM_df.head()"
      ],
      "execution_count": 93,
      "outputs": [
        {
          "output_type": "execute_result",
          "data": {
            "text/html": [
              "<div>\n",
              "<style scoped>\n",
              "    .dataframe tbody tr th:only-of-type {\n",
              "        vertical-align: middle;\n",
              "    }\n",
              "\n",
              "    .dataframe tbody tr th {\n",
              "        vertical-align: top;\n",
              "    }\n",
              "\n",
              "    .dataframe thead th {\n",
              "        text-align: right;\n",
              "    }\n",
              "</style>\n",
              "<table border=\"1\" class=\"dataframe\">\n",
              "  <thead>\n",
              "    <tr style=\"text-align: right;\">\n",
              "      <th></th>\n",
              "      <th>customer_id</th>\n",
              "      <th>transaction_date</th>\n",
              "      <th>R_days</th>\n",
              "      <th>R</th>\n",
              "      <th>frequency</th>\n",
              "      <th>F</th>\n",
              "      <th>monetary_value</th>\n",
              "      <th>M</th>\n",
              "      <th>RFM_score_concat</th>\n",
              "      <th>RFM_score</th>\n",
              "    </tr>\n",
              "  </thead>\n",
              "  <tbody>\n",
              "    <tr>\n",
              "      <th>0</th>\n",
              "      <td>1</td>\n",
              "      <td>2017-12-23</td>\n",
              "      <td>7</td>\n",
              "      <td>5</td>\n",
              "      <td>11</td>\n",
              "      <td>5</td>\n",
              "      <td>9084.45</td>\n",
              "      <td>5</td>\n",
              "      <td>555</td>\n",
              "      <td>15.0</td>\n",
              "    </tr>\n",
              "    <tr>\n",
              "      <th>1</th>\n",
              "      <td>2</td>\n",
              "      <td>2017-08-24</td>\n",
              "      <td>128</td>\n",
              "      <td>1</td>\n",
              "      <td>3</td>\n",
              "      <td>1</td>\n",
              "      <td>4149.07</td>\n",
              "      <td>2</td>\n",
              "      <td>112</td>\n",
              "      <td>4.0</td>\n",
              "    </tr>\n",
              "    <tr>\n",
              "      <th>2</th>\n",
              "      <td>9</td>\n",
              "      <td>2017-10-13</td>\n",
              "      <td>78</td>\n",
              "      <td>2</td>\n",
              "      <td>6</td>\n",
              "      <td>3</td>\n",
              "      <td>5357.55</td>\n",
              "      <td>3</td>\n",
              "      <td>233</td>\n",
              "      <td>8.0</td>\n",
              "    </tr>\n",
              "    <tr>\n",
              "      <th>3</th>\n",
              "      <td>12</td>\n",
              "      <td>2017-10-24</td>\n",
              "      <td>67</td>\n",
              "      <td>2</td>\n",
              "      <td>7</td>\n",
              "      <td>4</td>\n",
              "      <td>6033.81</td>\n",
              "      <td>3</td>\n",
              "      <td>243</td>\n",
              "      <td>9.0</td>\n",
              "    </tr>\n",
              "    <tr>\n",
              "      <th>4</th>\n",
              "      <td>13</td>\n",
              "      <td>2017-12-03</td>\n",
              "      <td>27</td>\n",
              "      <td>4</td>\n",
              "      <td>7</td>\n",
              "      <td>4</td>\n",
              "      <td>7734.74</td>\n",
              "      <td>4</td>\n",
              "      <td>444</td>\n",
              "      <td>12.0</td>\n",
              "    </tr>\n",
              "  </tbody>\n",
              "</table>\n",
              "</div>"
            ],
            "text/plain": [
              "   customer_id transaction_date  R_days  ...  M  RFM_score_concat RFM_score\n",
              "0            1       2017-12-23       7  ...  5               555      15.0\n",
              "1            2       2017-08-24     128  ...  2               112       4.0\n",
              "2            9       2017-10-13      78  ...  3               233       8.0\n",
              "3           12       2017-10-24      67  ...  3               243       9.0\n",
              "4           13       2017-12-03      27  ...  4               444      12.0\n",
              "\n",
              "[5 rows x 10 columns]"
            ]
          },
          "metadata": {
            "tags": []
          },
          "execution_count": 93
        }
      ]
    },
    {
      "cell_type": "markdown",
      "metadata": {
        "id": "L9JGn114UUrv"
      },
      "source": [
        "With this method it can be observed that a customer having R=5, F=2, M=1 holds the same RFM score as another customer having R=1, F=2, M=5 inspite of showing completely different transaction patterns.\n",
        "Therefore, taking sum of RFM score is also not a reliable metric for customer segmentation."
      ]
    },
    {
      "cell_type": "markdown",
      "metadata": {
        "id": "6B5WvD_GaYmf"
      },
      "source": [
        "### **4.5.3. Method 3- K-Means Clustering:**"
      ]
    },
    {
      "cell_type": "code",
      "metadata": {
        "colab": {
          "base_uri": "https://localhost:8080/",
          "height": 197
        },
        "id": "hP9_i4x9ay9z",
        "outputId": "7d05e8e2-a898-4292-e6a0-77b40a91341b"
      },
      "source": [
        "rfm = RFM_df.copy()\n",
        "\n",
        "columns = ['R_days', 'frequency', 'monetary_value']\n",
        "rfm = rfm[columns]\n",
        "rfm.head()"
      ],
      "execution_count": 94,
      "outputs": [
        {
          "output_type": "execute_result",
          "data": {
            "text/html": [
              "<div>\n",
              "<style scoped>\n",
              "    .dataframe tbody tr th:only-of-type {\n",
              "        vertical-align: middle;\n",
              "    }\n",
              "\n",
              "    .dataframe tbody tr th {\n",
              "        vertical-align: top;\n",
              "    }\n",
              "\n",
              "    .dataframe thead th {\n",
              "        text-align: right;\n",
              "    }\n",
              "</style>\n",
              "<table border=\"1\" class=\"dataframe\">\n",
              "  <thead>\n",
              "    <tr style=\"text-align: right;\">\n",
              "      <th></th>\n",
              "      <th>R_days</th>\n",
              "      <th>frequency</th>\n",
              "      <th>monetary_value</th>\n",
              "    </tr>\n",
              "  </thead>\n",
              "  <tbody>\n",
              "    <tr>\n",
              "      <th>0</th>\n",
              "      <td>7</td>\n",
              "      <td>11</td>\n",
              "      <td>9084.45</td>\n",
              "    </tr>\n",
              "    <tr>\n",
              "      <th>1</th>\n",
              "      <td>128</td>\n",
              "      <td>3</td>\n",
              "      <td>4149.07</td>\n",
              "    </tr>\n",
              "    <tr>\n",
              "      <th>2</th>\n",
              "      <td>78</td>\n",
              "      <td>6</td>\n",
              "      <td>5357.55</td>\n",
              "    </tr>\n",
              "    <tr>\n",
              "      <th>3</th>\n",
              "      <td>67</td>\n",
              "      <td>7</td>\n",
              "      <td>6033.81</td>\n",
              "    </tr>\n",
              "    <tr>\n",
              "      <th>4</th>\n",
              "      <td>27</td>\n",
              "      <td>7</td>\n",
              "      <td>7734.74</td>\n",
              "    </tr>\n",
              "  </tbody>\n",
              "</table>\n",
              "</div>"
            ],
            "text/plain": [
              "   R_days  frequency  monetary_value\n",
              "0       7         11         9084.45\n",
              "1     128          3         4149.07\n",
              "2      78          6         5357.55\n",
              "3      67          7         6033.81\n",
              "4      27          7         7734.74"
            ]
          },
          "metadata": {
            "tags": []
          },
          "execution_count": 94
        }
      ]
    },
    {
      "cell_type": "code",
      "metadata": {
        "id": "dQV1KbRQeCg7"
      },
      "source": [
        "scaler = MinMaxScaler()\n",
        "rfm_std = pd.DataFrame(scaler.fit_transform(rfm), columns=rfm.columns)"
      ],
      "execution_count": 95,
      "outputs": []
    },
    {
      "cell_type": "code",
      "metadata": {
        "id": "yyV5r5O1v6U-"
      },
      "source": [
        "inertia = []\n",
        "ss = []\n",
        "\n",
        "for k in range(2,11):\n",
        "  kmeans = KMeans(n_clusters= k+1, random_state= 1231).fit(rfm_std)\n",
        "  inertia.append(kmeans.inertia_)\n",
        "  ss.append(metrics.silhouette_score(rfm_std, kmeans.labels_, metric='euclidean'))"
      ],
      "execution_count": 96,
      "outputs": []
    },
    {
      "cell_type": "code",
      "metadata": {
        "colab": {
          "base_uri": "https://localhost:8080/",
          "height": 350
        },
        "id": "HOdSXUKPqbp1",
        "outputId": "2ecccff5-aa14-4363-cba0-3814e5fcd436"
      },
      "source": [
        "sns.pointplot(x=list(range(2,11)), y=inertia)\n",
        "plt.title('Plot of inertia against k')\n",
        "plt.xlabel('number of clusters')\n",
        "plt.ylabel('inertia')\n",
        "plt.show()"
      ],
      "execution_count": 97,
      "outputs": [
        {
          "output_type": "display_data",
          "data": {
            "image/png": "[encoded data removed]",
            "text/plain": [
              "<Figure size 648x360 with 1 Axes>"
            ]
          },
          "metadata": {
            "tags": []
          }
        }
      ]
    },
    {
      "cell_type": "code",
      "metadata": {
        "colab": {
          "base_uri": "https://localhost:8080/",
          "height": 405
        },
        "id": "vW0XP9z0oOrb",
        "outputId": "5d9fe8f2-9920-4f59-935f-a6605f880320"
      },
      "source": [
        "sns.pointplot(list(range(2,11)), ss)\n",
        "plt.title('Choosing the number of clusters')\n",
        "plt.xlabel('Number of clusters')\n",
        "plt.ylabel('Silhouette Score')\n",
        "plt.show()"
      ],
      "execution_count": 98,
      "outputs": [
        {
          "output_type": "stream",
          "text": [
            "/usr/local/lib/python3.7/dist-packages/seaborn/_decorators.py:43: FutureWarning: Pass the following variables as keyword args: x, y. From version 0.12, the only valid positional argument will be `data`, and passing other arguments without an explicit keyword will result in an error or misinterpretation.\n",
            "  FutureWarning\n"
          ],
          "name": "stderr"
        },
        {
          "output_type": "display_data",
          "data": {
            "image/png": "[encoded data removed]",
            "text/plain": [
              "<Figure size 648x360 with 1 Axes>"
            ]
          },
          "metadata": {
            "tags": []
          }
        }
      ]
    },
    {
      "cell_type": "markdown",
      "metadata": {
        "id": "DHCvO8cwrg2N"
      },
      "source": [
        "Based of the Elbow Graph and Silhoutte Score, the optimal value for number of clusters is **k = 7**"
      ]
    },
    {
      "cell_type": "code",
      "metadata": {
        "colab": {
          "base_uri": "https://localhost:8080/"
        },
        "id": "vXhHS0uUrgGS",
        "outputId": "f7af9189-562c-4c3f-e15b-2e55b5b9bc8b"
      },
      "source": [
        "#silhoutte score for k=7\n",
        "min(ss)"
      ],
      "execution_count": 99,
      "outputs": [
        {
          "output_type": "execute_result",
          "data": {
            "text/plain": [
              "0.2699249724551682"
            ]
          },
          "metadata": {
            "tags": []
          },
          "execution_count": 99
        }
      ]
    },
    {
      "cell_type": "code",
      "metadata": {
        "colab": {
          "base_uri": "https://localhost:8080/"
        },
        "id": "Yiw5GHVyfMpF",
        "outputId": "264a3665-27fa-4f5e-e36a-5110bf35dfdb"
      },
      "source": [
        "model = KMeans(n_clusters= 7, random_state= 42)\n",
        "model.fit(rfm_std)"
      ],
      "execution_count": 100,
      "outputs": [
        {
          "output_type": "execute_result",
          "data": {
            "text/plain": [
              "KMeans(algorithm='auto', copy_x=True, init='k-means++', max_iter=300,\n",
              "       n_clusters=7, n_init=10, n_jobs=None, precompute_distances='auto',\n",
              "       random_state=42, tol=0.0001, verbose=0)"
            ]
          },
          "metadata": {
            "tags": []
          },
          "execution_count": 100
        }
      ]
    },
    {
      "cell_type": "code",
      "metadata": {
        "colab": {
          "base_uri": "https://localhost:8080/",
          "height": 321
        },
        "id": "8AMV-Dl9sIXu",
        "outputId": "a99eb9b9-ecc9-47b4-bf12-4e6b731d309d"
      },
      "source": [
        "centers = model.cluster_centers_\n",
        "fig = plt.figure()\n",
        "ax = fig.add_subplot(111, projection = '3d')\n",
        "ax.scatter(rfm_std['R_days'], rfm_std['frequency'], rfm_std['monetary_value'], cmap = 'brg',\n",
        "           c = model.predict(rfm_std))\n",
        "ax.scatter(centers[:,0], centers[:,1], c='black')"
      ],
      "execution_count": 101,
      "outputs": [
        {
          "output_type": "execute_result",
          "data": {
            "text/plain": [
              "<mpl_toolkits.mplot3d.art3d.Path3DCollection at 0x7f9e9a2c3950>"
            ]
          },
          "metadata": {
            "tags": []
          },
          "execution_count": 101
        },
        {
          "output_type": "display_data",
          "data": {
            "image/png": "[encoded data removed]",
            "text/plain": [
              "<Figure size 648x360 with 1 Axes>"
            ]
          },
          "metadata": {
            "tags": []
          }
        }
      ]
    },
    {
      "cell_type": "markdown",
      "metadata": {
        "id": "8KNFMmcNZCVy"
      },
      "source": [
        "Dividing the classes into 3 broad segments for studying the output accuracy."
      ]
    },
    {
      "cell_type": "code",
      "metadata": {
        "id": "buXVeuXff2Sx"
      },
      "source": [
        "rfm['clusters'] = model.labels_\n",
        "\n",
        "rfm['Profile'] = model.labels_\n",
        "rfm['Profile'].replace({0: \"Low Segment\", 1: \"Low Segment\", 2: \"Low Segment\",\n",
        "                        3: \"Mid Segment\", 4: \"Mid Segment\",\n",
        "                        5: \"High Segment\", 6: \"High Segment\"}, inplace = True)\n",
        "\n",
        "rfm.insert(loc=0, column='customer_id', value= RFM_df['customer_id'])"
      ],
      "execution_count": 102,
      "outputs": []
    },
    {
      "cell_type": "code",
      "metadata": {
        "colab": {
          "base_uri": "https://localhost:8080/",
          "height": 406
        },
        "id": "H98K2oIdMezD",
        "outputId": "008b4fcc-6e8d-48ae-d8cc-afbc30c724d7"
      },
      "source": [
        "rfm[rfm['frequency']> 4]"
      ],
      "execution_count": 103,
      "outputs": [
        {
          "output_type": "execute_result",
          "data": {
            "text/html": [
              "<div>\n",
              "<style scoped>\n",
              "    .dataframe tbody tr th:only-of-type {\n",
              "        vertical-align: middle;\n",
              "    }\n",
              "\n",
              "    .dataframe tbody tr th {\n",
              "        vertical-align: top;\n",
              "    }\n",
              "\n",
              "    .dataframe thead th {\n",
              "        text-align: right;\n",
              "    }\n",
              "</style>\n",
              "<table border=\"1\" class=\"dataframe\">\n",
              "  <thead>\n",
              "    <tr style=\"text-align: right;\">\n",
              "      <th></th>\n",
              "      <th>customer_id</th>\n",
              "      <th>R_days</th>\n",
              "      <th>frequency</th>\n",
              "      <th>monetary_value</th>\n",
              "      <th>clusters</th>\n",
              "      <th>Profile</th>\n",
              "    </tr>\n",
              "  </thead>\n",
              "  <tbody>\n",
              "    <tr>\n",
              "      <th>0</th>\n",
              "      <td>1</td>\n",
              "      <td>7</td>\n",
              "      <td>11</td>\n",
              "      <td>9084.45</td>\n",
              "      <td>5</td>\n",
              "      <td>High Segment</td>\n",
              "    </tr>\n",
              "    <tr>\n",
              "      <th>2</th>\n",
              "      <td>9</td>\n",
              "      <td>78</td>\n",
              "      <td>6</td>\n",
              "      <td>5357.55</td>\n",
              "      <td>0</td>\n",
              "      <td>Low Segment</td>\n",
              "    </tr>\n",
              "    <tr>\n",
              "      <th>3</th>\n",
              "      <td>12</td>\n",
              "      <td>67</td>\n",
              "      <td>7</td>\n",
              "      <td>6033.81</td>\n",
              "      <td>4</td>\n",
              "      <td>Mid Segment</td>\n",
              "    </tr>\n",
              "    <tr>\n",
              "      <th>4</th>\n",
              "      <td>13</td>\n",
              "      <td>27</td>\n",
              "      <td>7</td>\n",
              "      <td>7734.74</td>\n",
              "      <td>1</td>\n",
              "      <td>Low Segment</td>\n",
              "    </tr>\n",
              "    <tr>\n",
              "      <th>6</th>\n",
              "      <td>15</td>\n",
              "      <td>35</td>\n",
              "      <td>6</td>\n",
              "      <td>4923.34</td>\n",
              "      <td>4</td>\n",
              "      <td>Mid Segment</td>\n",
              "    </tr>\n",
              "    <tr>\n",
              "      <th>...</th>\n",
              "      <td>...</td>\n",
              "      <td>...</td>\n",
              "      <td>...</td>\n",
              "      <td>...</td>\n",
              "      <td>...</td>\n",
              "      <td>...</td>\n",
              "    </tr>\n",
              "    <tr>\n",
              "      <th>2429</th>\n",
              "      <td>3484</td>\n",
              "      <td>79</td>\n",
              "      <td>6</td>\n",
              "      <td>8406.81</td>\n",
              "      <td>1</td>\n",
              "      <td>Low Segment</td>\n",
              "    </tr>\n",
              "    <tr>\n",
              "      <th>2434</th>\n",
              "      <td>3489</td>\n",
              "      <td>108</td>\n",
              "      <td>6</td>\n",
              "      <td>8300.15</td>\n",
              "      <td>0</td>\n",
              "      <td>Low Segment</td>\n",
              "    </tr>\n",
              "    <tr>\n",
              "      <th>2435</th>\n",
              "      <td>3490</td>\n",
              "      <td>166</td>\n",
              "      <td>5</td>\n",
              "      <td>4739.70</td>\n",
              "      <td>0</td>\n",
              "      <td>Low Segment</td>\n",
              "    </tr>\n",
              "    <tr>\n",
              "      <th>2438</th>\n",
              "      <td>3493</td>\n",
              "      <td>93</td>\n",
              "      <td>6</td>\n",
              "      <td>10053.82</td>\n",
              "      <td>1</td>\n",
              "      <td>Low Segment</td>\n",
              "    </tr>\n",
              "    <tr>\n",
              "      <th>2440</th>\n",
              "      <td>3495</td>\n",
              "      <td>13</td>\n",
              "      <td>7</td>\n",
              "      <td>8626.65</td>\n",
              "      <td>1</td>\n",
              "      <td>Low Segment</td>\n",
              "    </tr>\n",
              "  </tbody>\n",
              "</table>\n",
              "<p>1580 rows × 6 columns</p>\n",
              "</div>"
            ],
            "text/plain": [
              "      customer_id  R_days  frequency  monetary_value  clusters       Profile\n",
              "0               1       7         11         9084.45         5  High Segment\n",
              "2               9      78          6         5357.55         0   Low Segment\n",
              "3              12      67          7         6033.81         4   Mid Segment\n",
              "4              13      27          7         7734.74         1   Low Segment\n",
              "6              15      35          6         4923.34         4   Mid Segment\n",
              "...           ...     ...        ...             ...       ...           ...\n",
              "2429         3484      79          6         8406.81         1   Low Segment\n",
              "2434         3489     108          6         8300.15         0   Low Segment\n",
              "2435         3490     166          5         4739.70         0   Low Segment\n",
              "2438         3493      93          6        10053.82         1   Low Segment\n",
              "2440         3495      13          7         8626.65         1   Low Segment\n",
              "\n",
              "[1580 rows x 6 columns]"
            ]
          },
          "metadata": {
            "tags": []
          },
          "execution_count": 103
        }
      ]
    },
    {
      "cell_type": "markdown",
      "metadata": {
        "id": "UUiOK3RPK-T4"
      },
      "source": [
        "Using KMeans clustering can prove to be one of the best ways of customer segmentation. But we need to keep in mind that while we are employing machine learning techniques there are **chances of misclassification.**\n",
        "\n",
        "For example, we do not want a frequently visiting customer contributing significantly in terms of monetary value to be placed in the Low Segment as can be observed for customer_id = 13, 3484, 3493, 3495 and many more.\n",
        "\n",
        "Such errors if occured frequently might question the effectiveness of the model and severely hamper the business.\n",
        "\n",
        "Let's look at a more personalized approach to segment the customers in the following method."
      ]
    },
    {
      "cell_type": "markdown",
      "metadata": {
        "id": "DrhJgvBxDPZc"
      },
      "source": [
        "### **4.5.4. Method 4- Weighted Average:**\n",
        "\n",
        "At times, the company might find it profitable to focus more on customers who have been frequent visitors(High F score) as well as spend a lot of money on every visit(High M score) but at the same time they might not have been a recent visitor(Low R score). This is just one example which we will consider for analysis, the company requirements may change.\n",
        "\n",
        "The aim is to demonstrate that, **we can streamline the segmentation process as per the business requirements by using weighted average of the R, F and M scores.**\n",
        "\n",
        "RFM scoring rubric: (20% of R) + (40% of F) + (40% of M)"
      ]
    },
    {
      "cell_type": "code",
      "metadata": {
        "id": "8U129I2nDaIQ"
      },
      "source": [
        "rfm_wa = RFM_df.copy()\n",
        "\n",
        "columns = ['R', 'F', 'M']\n",
        "rfm_wa = rfm_wa[columns].astype(int)"
      ],
      "execution_count": 104,
      "outputs": []
    },
    {
      "cell_type": "code",
      "metadata": {
        "colab": {
          "base_uri": "https://localhost:8080/",
          "height": 197
        },
        "id": "JLD4G7MODrqk",
        "outputId": "df1bc6ef-0818-4782-e79d-d12ff7983365"
      },
      "source": [
        "rfm_wa['RFM_score'] = (.2*rfm_wa['R']) + (.4*rfm_wa['F']) + (.4*rfm_wa['M'])\n",
        "rfm_wa.head()"
      ],
      "execution_count": 105,
      "outputs": [
        {
          "output_type": "execute_result",
          "data": {
            "text/html": [
              "<div>\n",
              "<style scoped>\n",
              "    .dataframe tbody tr th:only-of-type {\n",
              "        vertical-align: middle;\n",
              "    }\n",
              "\n",
              "    .dataframe tbody tr th {\n",
              "        vertical-align: top;\n",
              "    }\n",
              "\n",
              "    .dataframe thead th {\n",
              "        text-align: right;\n",
              "    }\n",
              "</style>\n",
              "<table border=\"1\" class=\"dataframe\">\n",
              "  <thead>\n",
              "    <tr style=\"text-align: right;\">\n",
              "      <th></th>\n",
              "      <th>R</th>\n",
              "      <th>F</th>\n",
              "      <th>M</th>\n",
              "      <th>RFM_score</th>\n",
              "    </tr>\n",
              "  </thead>\n",
              "  <tbody>\n",
              "    <tr>\n",
              "      <th>0</th>\n",
              "      <td>5</td>\n",
              "      <td>5</td>\n",
              "      <td>5</td>\n",
              "      <td>5.0</td>\n",
              "    </tr>\n",
              "    <tr>\n",
              "      <th>1</th>\n",
              "      <td>1</td>\n",
              "      <td>1</td>\n",
              "      <td>2</td>\n",
              "      <td>1.4</td>\n",
              "    </tr>\n",
              "    <tr>\n",
              "      <th>2</th>\n",
              "      <td>2</td>\n",
              "      <td>3</td>\n",
              "      <td>3</td>\n",
              "      <td>2.8</td>\n",
              "    </tr>\n",
              "    <tr>\n",
              "      <th>3</th>\n",
              "      <td>2</td>\n",
              "      <td>4</td>\n",
              "      <td>3</td>\n",
              "      <td>3.2</td>\n",
              "    </tr>\n",
              "    <tr>\n",
              "      <th>4</th>\n",
              "      <td>4</td>\n",
              "      <td>4</td>\n",
              "      <td>4</td>\n",
              "      <td>4.0</td>\n",
              "    </tr>\n",
              "  </tbody>\n",
              "</table>\n",
              "</div>"
            ],
            "text/plain": [
              "   R  F  M  RFM_score\n",
              "0  5  5  5        5.0\n",
              "1  1  1  2        1.4\n",
              "2  2  3  3        2.8\n",
              "3  2  4  3        3.2\n",
              "4  4  4  4        4.0"
            ]
          },
          "metadata": {
            "tags": []
          },
          "execution_count": 105
        }
      ]
    },
    {
      "cell_type": "code",
      "metadata": {
        "id": "1StMVjuXJgEM"
      },
      "source": [
        "def cluster(df):\n",
        "  if df['RFM_score'] > 4:\n",
        "    value = 'Champions'\n",
        "    group = 5\n",
        "  elif df['RFM_score'] > 3:\n",
        "    value = 'Loyal Customers'\n",
        "    group = 4\n",
        "  elif df['RFM_score'] > 2:\n",
        "    value = 'Potential Loyalists'\n",
        "    group = 3\n",
        "  elif df['RFM_score'] > 1:\n",
        "    value = 'At Risk'\n",
        "    group = 2\n",
        "  else:\n",
        "    value = 'Hibernating/Lost'\n",
        "    group = 1\n",
        "  return pd.Series([group, value])"
      ],
      "execution_count": 106,
      "outputs": []
    },
    {
      "cell_type": "code",
      "metadata": {
        "colab": {
          "base_uri": "https://localhost:8080/",
          "height": 197
        },
        "id": "YutrWN6zoAwU",
        "outputId": "85832072-b4e8-4bb9-eca0-1fe53e2fe697"
      },
      "source": [
        "rfm_wa[['Group','Customer Profile']] = rfm_wa.apply(cluster, axis = 1)\n",
        "rfm_wa.head()"
      ],
      "execution_count": 107,
      "outputs": [
        {
          "output_type": "execute_result",
          "data": {
            "text/html": [
              "<div>\n",
              "<style scoped>\n",
              "    .dataframe tbody tr th:only-of-type {\n",
              "        vertical-align: middle;\n",
              "    }\n",
              "\n",
              "    .dataframe tbody tr th {\n",
              "        vertical-align: top;\n",
              "    }\n",
              "\n",
              "    .dataframe thead th {\n",
              "        text-align: right;\n",
              "    }\n",
              "</style>\n",
              "<table border=\"1\" class=\"dataframe\">\n",
              "  <thead>\n",
              "    <tr style=\"text-align: right;\">\n",
              "      <th></th>\n",
              "      <th>R</th>\n",
              "      <th>F</th>\n",
              "      <th>M</th>\n",
              "      <th>RFM_score</th>\n",
              "      <th>Group</th>\n",
              "      <th>Customer Profile</th>\n",
              "    </tr>\n",
              "  </thead>\n",
              "  <tbody>\n",
              "    <tr>\n",
              "      <th>0</th>\n",
              "      <td>5</td>\n",
              "      <td>5</td>\n",
              "      <td>5</td>\n",
              "      <td>5.0</td>\n",
              "      <td>5</td>\n",
              "      <td>Champions</td>\n",
              "    </tr>\n",
              "    <tr>\n",
              "      <th>1</th>\n",
              "      <td>1</td>\n",
              "      <td>1</td>\n",
              "      <td>2</td>\n",
              "      <td>1.4</td>\n",
              "      <td>2</td>\n",
              "      <td>At Risk</td>\n",
              "    </tr>\n",
              "    <tr>\n",
              "      <th>2</th>\n",
              "      <td>2</td>\n",
              "      <td>3</td>\n",
              "      <td>3</td>\n",
              "      <td>2.8</td>\n",
              "      <td>3</td>\n",
              "      <td>Potential Loyalists</td>\n",
              "    </tr>\n",
              "    <tr>\n",
              "      <th>3</th>\n",
              "      <td>2</td>\n",
              "      <td>4</td>\n",
              "      <td>3</td>\n",
              "      <td>3.2</td>\n",
              "      <td>4</td>\n",
              "      <td>Loyal Customers</td>\n",
              "    </tr>\n",
              "    <tr>\n",
              "      <th>4</th>\n",
              "      <td>4</td>\n",
              "      <td>4</td>\n",
              "      <td>4</td>\n",
              "      <td>4.0</td>\n",
              "      <td>4</td>\n",
              "      <td>Loyal Customers</td>\n",
              "    </tr>\n",
              "  </tbody>\n",
              "</table>\n",
              "</div>"
            ],
            "text/plain": [
              "   R  F  M  RFM_score  Group     Customer Profile\n",
              "0  5  5  5        5.0      5            Champions\n",
              "1  1  1  2        1.4      2              At Risk\n",
              "2  2  3  3        2.8      3  Potential Loyalists\n",
              "3  2  4  3        3.2      4      Loyal Customers\n",
              "4  4  4  4        4.0      4      Loyal Customers"
            ]
          },
          "metadata": {
            "tags": []
          },
          "execution_count": 107
        }
      ]
    },
    {
      "cell_type": "code",
      "metadata": {
        "id": "K_3wpmhnaY4W"
      },
      "source": [
        "n = rfm_wa.groupby('Customer Profile')[['Group']].sum()"
      ],
      "execution_count": 108,
      "outputs": []
    },
    {
      "cell_type": "code",
      "metadata": {
        "colab": {
          "base_uri": "https://localhost:8080/"
        },
        "id": "A9taH3X1ecxV",
        "outputId": "e4ea7c12-0157-41b9-9469-6dfcb1734a99"
      },
      "source": [
        "a = rfm_wa.groupby('Customer Profile')[['Group']].sum().index.get_level_values(0).tolist()\n",
        "print(a)"
      ],
      "execution_count": 109,
      "outputs": [
        {
          "output_type": "stream",
          "text": [
            "['At Risk', 'Champions', 'Hibernating/Lost', 'Loyal Customers', 'Potential Loyalists']\n"
          ],
          "name": "stdout"
        }
      ]
    },
    {
      "cell_type": "code",
      "metadata": {
        "colab": {
          "base_uri": "https://localhost:8080/"
        },
        "id": "ShBIPHNgawdu",
        "outputId": "7085e3c1-420f-4c84-82af-2960178ac26a"
      },
      "source": [
        "d = rfm_wa['Group'].value_counts().tolist()\n",
        "print(d)"
      ],
      "execution_count": 110,
      "outputs": [
        {
          "output_type": "stream",
          "text": [
            "[622, 593, 520, 517, 191]\n"
          ],
          "name": "stdout"
        }
      ]
    },
    {
      "cell_type": "code",
      "metadata": {
        "colab": {
          "base_uri": "https://localhost:8080/",
          "height": 485
        },
        "id": "N51oOt5EqUHo",
        "outputId": "61fb76a1-3422-434a-cdc5-3eba9390c85c"
      },
      "source": [
        "perc = []\n",
        "colors = ['teal', 'lightseagreen', 'turquoise', 'aquamarine',\n",
        "             'lightgreen',]\n",
        "\n",
        "fig = plt.gcf()\n",
        "fig.set_size_inches(12, 8)\n",
        "\n",
        "for i in d:\n",
        "  perc.append(i/sum(d) * 100)\n",
        "\n",
        "perc = [round(num, 2) for num in perc]\n",
        "\n",
        "lbl = [f'{el[0]} = {el[1]} %' for el in zip(a, perc)]\n",
        "squarify.plot(sizes= d, label= lbl, color= colors )\n",
        "\n",
        "plt.title(\"RFM Segments\", fontsize= 18, fontweight= \"bold\")\n",
        "plt.axis('off')\n",
        "plt.show() "
      ],
      "execution_count": 111,
      "outputs": [
        {
          "output_type": "display_data",
          "data": {
            "image/png": "[encoded data removed]",
            "text/plain": [
              "<Figure size 864x576 with 1 Axes>"
            ]
          },
          "metadata": {
            "tags": []
          }
        }
      ]
    },
    {
      "cell_type": "markdown",
      "metadata": {
        "id": "qjspmExKe4KP"
      },
      "source": [
        "# **Conclusion:**"
      ]
    },
    {
      "cell_type": "markdown",
      "metadata": {
        "id": "juCa9I0Le9_p"
      },
      "source": [
        "A total of 4 methods have been discussed for the purpose of Customer Segmentation. Among them it can be concluded that K-Means Clustering approach (with 7 clusters) is suitable for segmenting the customers based on RFM. Further, a method of calculating weighted average has been discussed which can help to streamline the segmentation process as per business requirements.  \n",
        "\n",
        "Segments generated can now be interpreted and transposed into business actions as follows:\n",
        "\n",
        "\n",
        "---\n",
        "\n",
        "\n",
        "\n",
        "**Champions:**  These customers likely generate a disproportionately high percentage of overall revenues and thus focusing on keeping them happy should be a top priority. This can be further improved by analyzing individual preferences for personalized services. \n",
        "\n",
        "**Loyal Customers:** These repeat customers are active and loyal. Strategies should be implemented to make them feel valued and rewards can be provided if they spread the word about the brand to their family and friends.\n",
        "\n",
        "**Potential Loayalists:** These are the Customers with average frequency who spend a good amount. Offer membership or loyalty programs, recommend related products based on their purchase history to make them your Champions or Loyal Customers.\n",
        "\n",
        "**At Risk:** These are the customers who have not purchased recently.  Send them personalized reactivation campaigns to reconnect, offer renewals and helpful products to encourage another purchase.\n",
        "\n",
        "**Hibernating/Lost:** These are Customers who have stopped transacting a long time ago. As challenging the task might seem it is important to communicate with them on the basis of their preferences so that they consider getting back in business.\n",
        "\n",
        "\n",
        "---\n",
        "\n",
        "\n",
        "Now that we have a clear view of the Segments mentioned above, specific actions can be planned across the Business (Marketing, sales, Operations, Product, etc.) to address any potential issues.\n",
        "\n",
        "\n",
        "---\n",
        "\n",
        "\n",
        "Finally, for the data provided for **1000 New Customers** the company should assign a high level of preference to Customers satisfying the following criteria:\n",
        "\n",
        "*   Customers aged between 41-50 years \n",
        "*   State of residence NSW\n",
        "*   Female Customers, as they are greater in number and spend more compared to males\n",
        "*   Job Category as Manufacturing, Financial Services or Health\n",
        "\n",
        "Furthermore, with reference to the comprehensive study of the trends of Existing Customers, their behaviour and subsequent segmentation, the New Customers can be classified similarly once their transaction data is made available.\n",
        "\n",
        "These New Customers will have a high overall RFM score but they have not been frequent shoppers. The complany should start building relationships with these customers by providing onboarding support and special offers to increase their visits.\n",
        "\n",
        "\n",
        "\n"
      ]
    }
  ]
}